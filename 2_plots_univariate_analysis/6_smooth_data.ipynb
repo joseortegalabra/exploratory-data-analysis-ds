{
 "cells": [
  {
   "cell_type": "markdown",
   "id": "32d068a1-3e4a-4622-b0d5-54dfa5a5ecaa",
   "metadata": {},
   "source": [
    "# Smooth data\n",
    "This is applied principaly to time series data\n",
    "\n",
    "Content\n",
    "- Promedio móvil simple\n",
    "- Promedio móvil ponderado\n",
    "- Promedio móvil exponencial\n",
    "\n",
    "Sources\n",
    "\n",
    "- Source dataset: https://www.tensorflow.org/tutorials/structured_data/time_series?hl=es-419\n",
    "\n",
    "- Sorce dataset v2: https://keras.io/examples/timeseries/timeseries_weather_forecasting/\n",
    "  \n",
    "- Source lines charts: https://plotly.com/python/line-charts/"
   ]
  },
  {
   "cell_type": "code",
   "execution_count": 1,
   "id": "8ae2073a-de19-4a70-ae44-3b4b01788ba7",
   "metadata": {},
   "outputs": [
    {
     "name": "stdout",
     "output_type": "stream",
     "text": [
      "root path:  /Users/joseortega/Documents/GitHub/exploratory-data-analysis-ds\n"
     ]
    }
   ],
   "source": [
    "import os\n",
    "# fix root path to save outputs\n",
    "actual_path = os.path.abspath(os.getcwd())\n",
    "list_root_path = actual_path.split('/')[:-1]\n",
    "root_path = '/'.join(list_root_path)\n",
    "os.chdir(root_path)\n",
    "print('root path: ', root_path)"
   ]
  },
  {
   "cell_type": "markdown",
   "id": "65e48ceb-a3fd-4a90-a215-6e4fc89ffb95",
   "metadata": {},
   "source": [
    "### 0. Package and load data\n",
    "**Dataset: Tensorflow climate**"
   ]
  },
  {
   "cell_type": "code",
   "execution_count": 2,
   "id": "fae656c9-8e17-4bf8-a5df-84500a3aec26",
   "metadata": {},
   "outputs": [],
   "source": [
    "import tensorflow as tf\n",
    "import os\n",
    "import numpy as np\n",
    "import pandas as pd\n",
    "\n",
    "# plotly\n",
    "import plotly\n",
    "import plotly.express as px\n",
    "import plotly.graph_objects as go\n",
    "import plotly.io as pio\n",
    "from plotly.subplots import make_subplots"
   ]
  },
  {
   "cell_type": "code",
   "execution_count": 3,
   "id": "153437a8-2e5d-44ff-9218-99fd413d9a3a",
   "metadata": {},
   "outputs": [],
   "source": [
    "# get data\n",
    "zip_path = tf.keras.utils.get_file(\n",
    "    origin='https://storage.googleapis.com/tensorflow/tf-keras-datasets/jena_climate_2009_2016.csv.zip',\n",
    "    fname='jena_climate_2009_2016.csv.zip',\n",
    "    extract=True)\n",
    "csv_path, _ = os.path.splitext(zip_path)\n",
    "\n",
    "# read data\n",
    "data = pd.read_csv(csv_path)\n",
    "\n",
    "# transform index into datetime format\n",
    "index_datetime = pd.to_datetime(data.pop('Date Time'), format='%d.%m.%Y %H:%M:%S')\n",
    "\n",
    "# set datetime as index\n",
    "data.set_index(index_datetime, inplace =  True)"
   ]
  },
  {
   "cell_type": "code",
   "execution_count": 4,
   "id": "82798d45-cbfb-41bf-8e08-98d36c5776b3",
   "metadata": {},
   "outputs": [
    {
     "data": {
      "text/html": [
       "<div>\n",
       "<style scoped>\n",
       "    .dataframe tbody tr th:only-of-type {\n",
       "        vertical-align: middle;\n",
       "    }\n",
       "\n",
       "    .dataframe tbody tr th {\n",
       "        vertical-align: top;\n",
       "    }\n",
       "\n",
       "    .dataframe thead th {\n",
       "        text-align: right;\n",
       "    }\n",
       "</style>\n",
       "<table border=\"1\" class=\"dataframe\">\n",
       "  <thead>\n",
       "    <tr style=\"text-align: right;\">\n",
       "      <th></th>\n",
       "      <th>p (mbar)</th>\n",
       "      <th>T (degC)</th>\n",
       "      <th>Tpot (K)</th>\n",
       "      <th>Tdew (degC)</th>\n",
       "      <th>rh (%)</th>\n",
       "      <th>VPmax (mbar)</th>\n",
       "      <th>VPact (mbar)</th>\n",
       "      <th>VPdef (mbar)</th>\n",
       "      <th>sh (g/kg)</th>\n",
       "      <th>H2OC (mmol/mol)</th>\n",
       "      <th>rho (g/m**3)</th>\n",
       "      <th>wv (m/s)</th>\n",
       "      <th>max. wv (m/s)</th>\n",
       "      <th>wd (deg)</th>\n",
       "    </tr>\n",
       "    <tr>\n",
       "      <th>Date Time</th>\n",
       "      <th></th>\n",
       "      <th></th>\n",
       "      <th></th>\n",
       "      <th></th>\n",
       "      <th></th>\n",
       "      <th></th>\n",
       "      <th></th>\n",
       "      <th></th>\n",
       "      <th></th>\n",
       "      <th></th>\n",
       "      <th></th>\n",
       "      <th></th>\n",
       "      <th></th>\n",
       "      <th></th>\n",
       "    </tr>\n",
       "  </thead>\n",
       "  <tbody>\n",
       "    <tr>\n",
       "      <th>2009-01-01 00:10:00</th>\n",
       "      <td>996.52</td>\n",
       "      <td>-8.02</td>\n",
       "      <td>265.40</td>\n",
       "      <td>-8.90</td>\n",
       "      <td>93.3</td>\n",
       "      <td>3.33</td>\n",
       "      <td>3.11</td>\n",
       "      <td>0.22</td>\n",
       "      <td>1.94</td>\n",
       "      <td>3.12</td>\n",
       "      <td>1307.75</td>\n",
       "      <td>1.03</td>\n",
       "      <td>1.75</td>\n",
       "      <td>152.3</td>\n",
       "    </tr>\n",
       "    <tr>\n",
       "      <th>2009-01-01 00:20:00</th>\n",
       "      <td>996.57</td>\n",
       "      <td>-8.41</td>\n",
       "      <td>265.01</td>\n",
       "      <td>-9.28</td>\n",
       "      <td>93.4</td>\n",
       "      <td>3.23</td>\n",
       "      <td>3.02</td>\n",
       "      <td>0.21</td>\n",
       "      <td>1.89</td>\n",
       "      <td>3.03</td>\n",
       "      <td>1309.80</td>\n",
       "      <td>0.72</td>\n",
       "      <td>1.50</td>\n",
       "      <td>136.1</td>\n",
       "    </tr>\n",
       "    <tr>\n",
       "      <th>2009-01-01 00:30:00</th>\n",
       "      <td>996.53</td>\n",
       "      <td>-8.51</td>\n",
       "      <td>264.91</td>\n",
       "      <td>-9.31</td>\n",
       "      <td>93.9</td>\n",
       "      <td>3.21</td>\n",
       "      <td>3.01</td>\n",
       "      <td>0.20</td>\n",
       "      <td>1.88</td>\n",
       "      <td>3.02</td>\n",
       "      <td>1310.24</td>\n",
       "      <td>0.19</td>\n",
       "      <td>0.63</td>\n",
       "      <td>171.6</td>\n",
       "    </tr>\n",
       "    <tr>\n",
       "      <th>2009-01-01 00:40:00</th>\n",
       "      <td>996.51</td>\n",
       "      <td>-8.31</td>\n",
       "      <td>265.12</td>\n",
       "      <td>-9.07</td>\n",
       "      <td>94.2</td>\n",
       "      <td>3.26</td>\n",
       "      <td>3.07</td>\n",
       "      <td>0.19</td>\n",
       "      <td>1.92</td>\n",
       "      <td>3.08</td>\n",
       "      <td>1309.19</td>\n",
       "      <td>0.34</td>\n",
       "      <td>0.50</td>\n",
       "      <td>198.0</td>\n",
       "    </tr>\n",
       "    <tr>\n",
       "      <th>2009-01-01 00:50:00</th>\n",
       "      <td>996.51</td>\n",
       "      <td>-8.27</td>\n",
       "      <td>265.15</td>\n",
       "      <td>-9.04</td>\n",
       "      <td>94.1</td>\n",
       "      <td>3.27</td>\n",
       "      <td>3.08</td>\n",
       "      <td>0.19</td>\n",
       "      <td>1.92</td>\n",
       "      <td>3.09</td>\n",
       "      <td>1309.00</td>\n",
       "      <td>0.32</td>\n",
       "      <td>0.63</td>\n",
       "      <td>214.3</td>\n",
       "    </tr>\n",
       "  </tbody>\n",
       "</table>\n",
       "</div>"
      ],
      "text/plain": [
       "                     p (mbar)  T (degC)  Tpot (K)  Tdew (degC)  rh (%)  \\\n",
       "Date Time                                                                \n",
       "2009-01-01 00:10:00    996.52     -8.02    265.40        -8.90    93.3   \n",
       "2009-01-01 00:20:00    996.57     -8.41    265.01        -9.28    93.4   \n",
       "2009-01-01 00:30:00    996.53     -8.51    264.91        -9.31    93.9   \n",
       "2009-01-01 00:40:00    996.51     -8.31    265.12        -9.07    94.2   \n",
       "2009-01-01 00:50:00    996.51     -8.27    265.15        -9.04    94.1   \n",
       "\n",
       "                     VPmax (mbar)  VPact (mbar)  VPdef (mbar)  sh (g/kg)  \\\n",
       "Date Time                                                                  \n",
       "2009-01-01 00:10:00          3.33          3.11          0.22       1.94   \n",
       "2009-01-01 00:20:00          3.23          3.02          0.21       1.89   \n",
       "2009-01-01 00:30:00          3.21          3.01          0.20       1.88   \n",
       "2009-01-01 00:40:00          3.26          3.07          0.19       1.92   \n",
       "2009-01-01 00:50:00          3.27          3.08          0.19       1.92   \n",
       "\n",
       "                     H2OC (mmol/mol)  rho (g/m**3)  wv (m/s)  max. wv (m/s)  \\\n",
       "Date Time                                                                     \n",
       "2009-01-01 00:10:00             3.12       1307.75      1.03           1.75   \n",
       "2009-01-01 00:20:00             3.03       1309.80      0.72           1.50   \n",
       "2009-01-01 00:30:00             3.02       1310.24      0.19           0.63   \n",
       "2009-01-01 00:40:00             3.08       1309.19      0.34           0.50   \n",
       "2009-01-01 00:50:00             3.09       1309.00      0.32           0.63   \n",
       "\n",
       "                     wd (deg)  \n",
       "Date Time                      \n",
       "2009-01-01 00:10:00     152.3  \n",
       "2009-01-01 00:20:00     136.1  \n",
       "2009-01-01 00:30:00     171.6  \n",
       "2009-01-01 00:40:00     198.0  \n",
       "2009-01-01 00:50:00     214.3  "
      ]
     },
     "execution_count": 4,
     "metadata": {},
     "output_type": "execute_result"
    }
   ],
   "source": [
    "data.head()"
   ]
  },
  {
   "cell_type": "code",
   "execution_count": 5,
   "id": "b77ec2d6-3470-4385-b26c-45d73b5dd1e8",
   "metadata": {},
   "outputs": [
    {
     "data": {
      "text/plain": [
       "(420551, 14)"
      ]
     },
     "execution_count": 5,
     "metadata": {},
     "output_type": "execute_result"
    }
   ],
   "source": [
    "data.shape"
   ]
  },
  {
   "cell_type": "code",
   "execution_count": 6,
   "id": "dc5b8008-01e2-4a04-944e-e8bb9ad3002b",
   "metadata": {},
   "outputs": [],
   "source": [
    "# sampling data to do calculations fast - weighted moving average has a \"apply method\" que hace lenta la ejecución\n",
    "start_date = '2009-01-01 01:00:00'\n",
    "end_date = '2009-02-01 00:00:00'\n",
    "\n",
    "data_sampled = data.loc[start_date:end_date]"
   ]
  },
  {
   "cell_type": "code",
   "execution_count": 7,
   "id": "259213a4-9359-4cbf-8d45-0498bfbc2488",
   "metadata": {},
   "outputs": [
    {
     "data": {
      "text/plain": [
       "(4459, 14)"
      ]
     },
     "execution_count": 7,
     "metadata": {},
     "output_type": "execute_result"
    }
   ],
   "source": [
    "data_sampled.shape"
   ]
  },
  {
   "cell_type": "code",
   "execution_count": null,
   "id": "1d1222a6-2552-4eb1-8d65-061260ee64f0",
   "metadata": {},
   "outputs": [],
   "source": []
  },
  {
   "cell_type": "code",
   "execution_count": null,
   "id": "e2faa908-3e13-4214-b863-a591d460d7bb",
   "metadata": {},
   "outputs": [],
   "source": []
  },
  {
   "cell_type": "markdown",
   "id": "d1254c9a-6b01-4b1e-9958-e6d26a90e2ad",
   "metadata": {},
   "source": [
    "## Concepts\n",
    "\n",
    "- Definición **serie de tiempo**: secuencia de datos experimentales ordenados en el tiempo\r\n",
    "\r\n",
    "- **El ordenamiento temporal da cabida a que exista correlación entre valores sucecivos** (el valor presente puede depender de los valores pasados)\r\n",
    "\r\n",
    "- Lo que vuelve interesante **entender los mecanismos causales subyacentes detrás de un fenómeplo)\r\n",
    "\r\n",
    "- Una serie de tiempo tiene diferentes componentes: **Tendencia, Estacionalidad, Ciclicidad y Residuo**. Tendencia: Incremento o decremento a largo plazo en los datos. No tiene que ser lineal, y puede cambiar de dirección\r\n",
    "\r\n",
    "- Una de los componentes más útiles de predecir es la tendencia. **Una técnica para extraer la tendencia y eliminar ruido de los datos, muy simple y bastante efectiva es el suavizado**"
   ]
  },
  {
   "cell_type": "code",
   "execution_count": null,
   "id": "6397774e-f9d6-4135-a1c6-64a3b0d85a1c",
   "metadata": {},
   "outputs": [],
   "source": []
  },
  {
   "cell_type": "markdown",
   "id": "a3cf991f-0530-4724-9f62-1c08d222e4db",
   "metadata": {},
   "source": [
    "## Auxiliar function to compare trends with data with different types of smooth"
   ]
  },
  {
   "cell_type": "code",
   "execution_count": 8,
   "id": "a3fa4b2a-e3d6-4766-9dce-d74c7e6a2604",
   "metadata": {},
   "outputs": [],
   "source": [
    "def plot_compare_tendencias(df_original, df_smoothed, kind_smooth, number_columns=2):\n",
    "    '''plot_compare_tendencias\n",
    "    Plot all the features in two differents dataframes in only one plot. The idea is compare the tendency of two differents dataframes where\n",
    "    one dataframe is the original and the second is the dataframe with smoothed values\n",
    "\n",
    "    Each feature is ploted in one subplot\n",
    "    \n",
    "    Args\n",
    "        df_original (dataframe): original dataframe\n",
    "        df_smoothed (dataframe): smoothed dataframe\n",
    "        kind_smooth (string): kind of smooth. In the plot is showed only in the title\n",
    "        number_columns (int): number of columns in the subplot. by default 2 columns\n",
    "    '''\n",
    "    # get list of features of both dataframes\n",
    "    list_features = list(set(df_original.columns.tolist() + df_smoothed.columns.tolist()))\n",
    "\n",
    "    # calculate number of rows (considering the number of colums passed as args)\n",
    "    if (len(list_features) % number_columns) != 0:\n",
    "        number_rows = (len(list_features) // number_columns) + 1\n",
    "    else:\n",
    "        number_rows = (len(list_features) // number_columns)\n",
    "\n",
    "    # create fig to plot\n",
    "    fig = make_subplots(rows=number_rows, cols=number_columns, subplot_titles=tuple(list_features))\n",
    "\n",
    "    ########## for each feature plot:\n",
    "    for index_feature in range(len(list_features)):\n",
    "        feature = list_features[index_feature]\n",
    "\n",
    "        # get indexes in the subplot (in plotly the indexes starts in 1)\n",
    "        row = (index_feature // number_columns) + 1\n",
    "        column = (index_feature % number_columns) + 1\n",
    "\n",
    "        # plot feature of df_original in gray\n",
    "        if feature in df_original.columns:\n",
    "            fig.add_trace(\n",
    "                go.Scatter(\n",
    "                    x=df_original.index,\n",
    "                    y=df_original[feature],\n",
    "                    name='original - ' + feature,\n",
    "                    line=dict(color='gray')\n",
    "                ),\n",
    "                row=row,\n",
    "                col=column\n",
    "            )\n",
    "\n",
    "        # plot feature of df_smoothed in orange\n",
    "        if feature in df_smoothed.columns:\n",
    "            fig.add_trace(\n",
    "                go.Scatter(\n",
    "                    x=df_smoothed.index,\n",
    "                    y=df_smoothed[feature],\n",
    "                    name='df_smoothed - ' + feature,\n",
    "                    line=dict(color='orange')\n",
    "                ),\n",
    "                row=row,\n",
    "                col=column\n",
    "            )\n",
    "\n",
    "    # adjust the shape\n",
    "    fig.update_layout(\n",
    "        height = 350 * number_rows,  # largo\n",
    "        width = 850 * number_columns,  # ancho\n",
    "        title_text = f\"Compare smooth data: {kind_smooth}\",\n",
    "        title_x=0.5,\n",
    "        title_font = dict(size = 28)\n",
    "    )\n",
    "\n",
    "    return fig"
   ]
  },
  {
   "cell_type": "code",
   "execution_count": null,
   "id": "cbe85b47-673e-4157-947a-cb377b803973",
   "metadata": {},
   "outputs": [],
   "source": []
  },
  {
   "cell_type": "code",
   "execution_count": null,
   "id": "df01c07a-453d-4348-8e05-b6097e2f0e46",
   "metadata": {},
   "outputs": [],
   "source": []
  },
  {
   "cell_type": "code",
   "execution_count": null,
   "id": "171fa5ef-c3ba-4689-a309-53bee11d1c6b",
   "metadata": {},
   "outputs": [],
   "source": []
  },
  {
   "cell_type": "markdown",
   "id": "0016c605-42a0-40f2-8ea6-4a52c6d3e019",
   "metadata": {},
   "source": [
    "## Promedio Móvil Simple\n",
    "La manera más sencilla de suavizar es promediando"
   ]
  },
  {
   "cell_type": "code",
   "execution_count": 9,
   "id": "cd507f27-6f05-48fd-9457-e492bf5e7106",
   "metadata": {},
   "outputs": [],
   "source": [
    "def apply_moving_average(df, window_size):\n",
    "    \"\"\"\n",
    "    Moving average\n",
    "    \n",
    "    Args\n",
    "        df (dataframe)\n",
    "        window_size (int)\n",
    "    \n",
    "    Return\n",
    "        df_smoothed (dataframe)\n",
    "    \"\"\"\n",
    "    df_smoothed = df.rolling(window = window_size).mean()\n",
    "    df_smoothed = df_smoothed.dropna()\n",
    "\n",
    "    return df_smoothed"
   ]
  },
  {
   "cell_type": "code",
   "execution_count": 10,
   "id": "e4c225da-384a-48e5-bd86-4422e384739b",
   "metadata": {},
   "outputs": [],
   "source": [
    "# apply moving average\n",
    "window = 5\n",
    "data_moving_average = apply_moving_average(data_sampled.copy(), window)"
   ]
  },
  {
   "cell_type": "code",
   "execution_count": 11,
   "id": "86a10484-509e-4888-877b-df9f9fe19eb1",
   "metadata": {},
   "outputs": [],
   "source": [
    "fig_moving_average = plot_compare_tendencias(df_original = data_sampled, \n",
    "                                             df_smoothed = data_moving_average,\n",
    "                                             kind_smooth = 'moving average - window 5'\n",
    "                                            )\n",
    "\n",
    "# save\n",
    "fig_moving_average.write_html(\"output_eda/2_univariate_analysis/fig_moving_average.html\")"
   ]
  },
  {
   "cell_type": "code",
   "execution_count": null,
   "id": "ea68398b-798d-4052-8650-23715d490043",
   "metadata": {},
   "outputs": [],
   "source": []
  },
  {
   "cell_type": "code",
   "execution_count": null,
   "id": "f4a35c3a-0bb3-48a7-b314-37396203e007",
   "metadata": {},
   "outputs": [],
   "source": []
  },
  {
   "cell_type": "code",
   "execution_count": null,
   "id": "92d9b60b-962f-42f4-93b0-de062d7aa077",
   "metadata": {},
   "outputs": [],
   "source": []
  },
  {
   "cell_type": "markdown",
   "id": "6511af04-fdd6-4329-8db0-251f4cb35f8a",
   "metadata": {},
   "source": [
    "## Promedio Móvil Ponderado\n",
    "- El promedio móvil simple se puede entender como un promedio en el que se da el mismo peso a los N­1 valores anteriores.\r\n",
    "\r\n",
    "- Una aplicación común es darle pesos decrecientes a los valores entre más lejos estén en el pasado.\r\n",
    "\r\n",
    "- **Esto permite que el promedio móvil responda más rápido en cambios súbitos de la serie**\r\n",
    "\r\n",
    "- Cómo calcular promedio móvil pesado:\r\n",
    "\r\n",
    "  1.- Define el tamaño de la ventana de tiempo (número de periodos) sobre el cual deseas calcular el promedio móvil ponderado.\r\n",
    "\r\n",
    "  2.- Asigna pesos a cada uno de los valores en la ventana de tiempo. Los pesos pueden sumar 1 o cualquier otro valor deseado. Los pesos pueden ser proporcionales al tiempo, es decir, los valores más recientes pueden tener pesos más altos.\r\n",
    "\r\n",
    "  3.- Multiplica cada valor en la ventana de tiempo por su respectivo peso.\r\n",
    "\r\n",
    "  4.- Suma todos los valores ponderados.\r\n",
    "\r\n",
    "  5.- Divide la suma de los valores ponderados entre la suma de los pesos para obtener el promedio móvil ponderado."
   ]
  },
  {
   "cell_type": "code",
   "execution_count": 12,
   "id": "b823aa65-0213-4c4c-9aba-0d7540ed3a73",
   "metadata": {},
   "outputs": [],
   "source": [
    "def apply_weighted_moving_average(df, weights):\n",
    "    '''\n",
    "    Calcula el promedio móvil ponderado de una serie de datos. \"rolling\" junto con \"dot\" para realizar la multiplicación y la suma ponderada. \n",
    "    \n",
    "    Args\n",
    "        df (dataframe)\n",
    "        weights (list) una lista o array de pesos correspondientes a cada lag\n",
    "    \n",
    "    Return\n",
    "        df_smoothed (dataframe)\n",
    "    '''\n",
    "    window_size = len(weights)\n",
    "    weights = np.array(weights)\n",
    "    \n",
    "    # Extraer los valores de la columna de datos\n",
    "    values = df.iloc[:, 0].values\n",
    "    \n",
    "    # Calcular el promedio móvil ponderado utilizando rolling y dot\n",
    "    rolling_weights = df.rolling(window_size).apply(lambda x: np.dot(x, weights))\n",
    "    df_smoothed = rolling_weights / sum(weights)\n",
    "\n",
    "    # dropna\n",
    "    df_smoothed = df_smoothed.dropna()\n",
    "    return df_smoothed"
   ]
  },
  {
   "cell_type": "code",
   "execution_count": 13,
   "id": "6cc49141-9ce6-4d70-8943-3223192a9042",
   "metadata": {},
   "outputs": [],
   "source": [
    "# definir los pesos - en el ejemplo ventana movil de tamaño 5\n",
    "weights = [0.05, 0.10, 0.15, 0.3, 0.4]\n",
    "data_weighted_moving_average = apply_weighted_moving_average(data_sampled.copy(), weights)"
   ]
  },
  {
   "cell_type": "code",
   "execution_count": 14,
   "id": "ec8c805c-a0b1-4a71-9d20-8ec317cdf598",
   "metadata": {},
   "outputs": [],
   "source": [
    "fig_weighted_moving_average = plot_compare_tendencias(df_original = data_sampled, \n",
    "                                             df_smoothed = data_weighted_moving_average,\n",
    "                                                      kind_smooth = 'weighted moving average - weights: [0.05, 0.10, 0.15, 0.3, 0.4]'\n",
    "                                            )\n",
    "\n",
    "# save\n",
    "fig_weighted_moving_average.write_html(\"output_eda/2_univariate_analysis/fig_weighted_moving_average.html\")"
   ]
  },
  {
   "cell_type": "markdown",
   "id": "b76a3503-4a23-49b8-a8dd-5386d34bc0a7",
   "metadata": {},
   "source": [
    "## Promedio Móvil Exponencial\n",
    "- Los promedios móviles anteriores (simple o pesado) tienen un alcance finito en el tiempo: “olvidan” el pasado más allá de cierta distancia temporal.\r\n",
    "\r\n",
    "- Este promedio asigna un peso que decrece exponencialmente, pero nunca se vuelve cero, a los valores pasado. Esto se define un factor de decaimiento alfa entre 0 y 1. Este factor de decamiento es cada vez más pequeño entre más lejos esta la observación\r\n",
    "\r\n",
    "S3 = alfa*X3 + alfa(1-alfa)*X2 + (1-alfa)(1-alfa)*X1"
   ]
  },
  {
   "cell_type": "code",
   "execution_count": 15,
   "id": "b6f1621b-dae5-490e-a5fc-a0af32d98f2a",
   "metadata": {},
   "outputs": [],
   "source": [
    "def apply_exponential_moving_average(df, alpha):\n",
    "    \"\"\"\n",
    "    Moving average\n",
    "    \n",
    "    Args\n",
    "        df (dataframe)\n",
    "        alpha (int)\n",
    "    \n",
    "    Return\n",
    "        df_smoothed (dataframe)\n",
    "    \"\"\"\n",
    "    df_smoothed = df.ewm(adjust = False,alpha = alpha).mean()\n",
    "    df_smoothed = df_smoothed.dropna()\n",
    "\n",
    "    return df_smoothed"
   ]
  },
  {
   "cell_type": "code",
   "execution_count": 16,
   "id": "93e3096d-6d82-4178-b4a6-62a9e36a724c",
   "metadata": {},
   "outputs": [],
   "source": [
    "# parametro alpha\n",
    "alpha = 0.1\n",
    "data_exponential_moving_average = apply_exponential_moving_average(data_sampled.copy(), alpha)"
   ]
  },
  {
   "cell_type": "code",
   "execution_count": 17,
   "id": "05ed559a-8395-4314-bc4b-e04e2c0f5151",
   "metadata": {},
   "outputs": [],
   "source": [
    "fig_exponential_moving_average = plot_compare_tendencias(df_original = data_sampled, \n",
    "                                             df_smoothed = data_exponential_moving_average,\n",
    "                                                         kind_smooth = 'exponential moving average - alpha 0.1'\n",
    "                                            )\n",
    "\n",
    "# save\n",
    "fig_exponential_moving_average.write_html(\"output_eda/2_univariate_analysis/fig_exponential_moving_average.html\")"
   ]
  },
  {
   "cell_type": "code",
   "execution_count": null,
   "id": "02c62294-1a02-45d3-a32b-fb8488b92e8c",
   "metadata": {},
   "outputs": [],
   "source": []
  },
  {
   "cell_type": "code",
   "execution_count": null,
   "id": "f0f84153-f4fa-4532-b370-29f419c167ad",
   "metadata": {},
   "outputs": [],
   "source": []
  },
  {
   "cell_type": "code",
   "execution_count": null,
   "id": "e3f51cac-a788-4a4c-95d2-09cda2a6e05a",
   "metadata": {},
   "outputs": [],
   "source": []
  },
  {
   "cell_type": "code",
   "execution_count": null,
   "id": "2a381345-214a-4095-a354-f8ddd37d7649",
   "metadata": {},
   "outputs": [],
   "source": []
  },
  {
   "cell_type": "code",
   "execution_count": null,
   "id": "5ad0b397-fdc3-4453-9afa-6e18671cbce3",
   "metadata": {},
   "outputs": [],
   "source": []
  },
  {
   "cell_type": "code",
   "execution_count": null,
   "id": "df483dd9-ac70-4179-b470-1c5216fd1cab",
   "metadata": {},
   "outputs": [],
   "source": []
  }
 ],
 "metadata": {
  "kernelspec": {
   "display_name": "Python 3 (ipykernel)",
   "language": "python",
   "name": "python3"
  },
  "language_info": {
   "codemirror_mode": {
    "name": "ipython",
    "version": 3
   },
   "file_extension": ".py",
   "mimetype": "text/x-python",
   "name": "python",
   "nbconvert_exporter": "python",
   "pygments_lexer": "ipython3",
   "version": "3.10.14"
  }
 },
 "nbformat": 4,
 "nbformat_minor": 5
}
