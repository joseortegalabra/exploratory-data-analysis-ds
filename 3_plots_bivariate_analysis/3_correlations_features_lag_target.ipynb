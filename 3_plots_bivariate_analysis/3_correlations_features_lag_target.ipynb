{
 "cells": [
  {
   "cell_type": "markdown",
   "id": "d6903d06-c7a4-43b7-b99b-3b075cb59636",
   "metadata": {},
   "source": [
    "# Correlations - pearson\n",
    "Content\n",
    "1) All dataframe\n",
    "- Correlation pearson\n",
    "- Correlation peason - upper triangular matrix\n",
    "- Correlation pearson - filtering by threshold\n",
    "\n",
    "2) All dataframe against a target\n",
    "- Correlation pearson"
   ]
  },
  {
   "cell_type": "code",
   "execution_count": null,
   "id": "88404dc0-445a-421c-9b69-15aa7c178e3e",
   "metadata": {},
   "outputs": [],
   "source": []
  },
  {
   "cell_type": "code",
   "execution_count": null,
   "id": "6f0e34cb-1e1b-4721-acbe-421ab6449dab",
   "metadata": {},
   "outputs": [],
   "source": [
    "import os\n",
    "# fix root path to save outputs\n",
    "actual_path = os.path.abspath(os.getcwd())\n",
    "list_root_path = actual_path.split('/')[:-1]\n",
    "root_path = '/'.join(list_root_path)\n",
    "os.chdir(root_path)\n",
    "print('root path: ', root_path)"
   ]
  },
  {
   "cell_type": "markdown",
   "id": "62bcd08e-29d2-4eec-8de0-40fa871442a5",
   "metadata": {},
   "source": [
    "### 0. Package and load data\n",
    "**Dataset: Tensorflow climate**e"
   ]
  },
  {
   "cell_type": "code",
   "execution_count": null,
   "id": "9e4191dd-548e-474c-8d0b-b1187c79ec46",
   "metadata": {},
   "outputs": [],
   "source": [
    "import tensorflow as tf\n",
    "import os\n",
    "import numpy as np\n",
    "import pandas as pd\n",
    "\n",
    "import matplotlib.pyplot as plt\n",
    "from statsmodels.graphics import tsaplots\n",
    "\n",
    "\n",
    "# plotly\n",
    "import plotly\n",
    "import plotly.express as px\n",
    "import plotly.graph_objects as go\n",
    "import plotly.io as pio\n",
    "from plotly.subplots import make_subplots"
   ]
  },
  {
   "cell_type": "code",
   "execution_count": null,
   "id": "530a1dec-ca85-405b-ba77-ccfabf910c97",
   "metadata": {},
   "outputs": [],
   "source": [
    "# get data\n",
    "zip_path = tf.keras.utils.get_file(\n",
    "    origin='https://storage.googleapis.com/tensorflow/tf-keras-datasets/jena_climate_2009_2016.csv.zip',\n",
    "    fname='jena_climate_2009_2016.csv.zip',\n",
    "    extract=True)\n",
    "csv_path, _ = os.path.splitext(zip_path)\n",
    "\n",
    "# read data\n",
    "data = pd.read_csv(csv_path)\n",
    "\n",
    "# transform index into datetime format\n",
    "index_datetime = pd.to_datetime(data.pop('Date Time'), format='%d.%m.%Y %H:%M:%S')\n",
    "\n",
    "# set datetime as index\n",
    "data.set_index(index_datetime, inplace =  True)"
   ]
  },
  {
   "cell_type": "code",
   "execution_count": null,
   "id": "3490ec29-e788-46bb-90a5-a5d017626168",
   "metadata": {},
   "outputs": [],
   "source": [
    "data.head()"
   ]
  },
  {
   "cell_type": "code",
   "execution_count": null,
   "id": "ae79575d-283e-454e-bbd8-47823db9e6b6",
   "metadata": {},
   "outputs": [],
   "source": []
  },
  {
   "cell_type": "markdown",
   "id": "a90c2a63-8bf5-416a-ba3d-805377c7434a",
   "metadata": {},
   "source": [
    "## Correlations - pearson - lag\n",
    "- Correlation pearson all features lagged againts a target"
   ]
  },
  {
   "cell_type": "markdown",
   "id": "a3f71513-aaf0-4222-ae94-0e4aa6bb4be0",
   "metadata": {},
   "source": [
    "#### 1. Codes to generate the EDA (numbers)"
   ]
  },
  {
   "cell_type": "code",
   "execution_count": null,
   "id": "226eb5fb-a64f-4d09-a7a3-ef2d91170d78",
   "metadata": {},
   "outputs": [],
   "source": []
  },
  {
   "cell_type": "code",
   "execution_count": null,
   "id": "e126fd8e-56fa-41cb-be38-5a002e03d431",
   "metadata": {},
   "outputs": [],
   "source": []
  },
  {
   "cell_type": "code",
   "execution_count": null,
   "id": "2ab92421-0d8f-4637-89ad-6d94cb9a9104",
   "metadata": {},
   "outputs": [],
   "source": []
  },
  {
   "cell_type": "markdown",
   "id": "6adecfd0-65e3-4b93-8b08-c68e15b02b4c",
   "metadata": {},
   "source": [
    "#### 2. Codes to synthesize the analysis"
   ]
  },
  {
   "cell_type": "code",
   "execution_count": null,
   "id": "6b1afea8-6fcf-42ae-a412-5c34bcfa1465",
   "metadata": {},
   "outputs": [],
   "source": [
    "def calculate_corr_features_lag_target(df, target, lags):\n",
    "    \"\"\"\n",
    "    Calculate correlation of each feature againt a target. Each correlation is calculated with the feature lagged differents instance of time\n",
    "    Ex. corr target vs feature1 (lag) with lag [0, 1, 2, ..., n]\n",
    "    \n",
    "    Args\n",
    "        df (dataframe): input dataframe\n",
    "        target (string): name of the target. the target needs to be inside the dataframe df\n",
    "        lags (integer): number of lags to apply to calculate the correlations\n",
    "    \n",
    "    Return\n",
    "        df_corr_lags(dataframe): dataframe with the correlations of the features lagged against a target\n",
    "    \"\"\"\n",
    "    # initialize dataframe with correlations with lags in the features. row: lags // columns: features\n",
    "    df_corr_lags = pd.DataFrame()\n",
    "    df_to_lag = df.copy() # in this code is generated a new column target to lag it. so it is necesary clone the data to not affect the oriignal df\n",
    "    \n",
    "    # create a column additional (target_shift) that is a clone of the target. see the correlation of the target with itself (autocorrelation)\n",
    "    df_to_lag[target + '_shift'] = df_to_lag[target]\n",
    "    \n",
    "    # define list feature and list target. Only list_feature is lagged\n",
    "    list_all = df.columns.tolist()\n",
    "    list_features = list(set(df_to_lag.columns.tolist()) - set([target]))\n",
    "    list_target = [target]\n",
    "\n",
    "    # calculate correlation\n",
    "    for lag in range(lags+1):\n",
    "        # verbose\n",
    "        df_original_data = df_to_lag.copy()\n",
    "        if lag % 20 == 0:\n",
    "            print(f'calculating corr with lag: {lag}')\n",
    "        \n",
    "        # lag the data\n",
    "        df_shifted = df_original_data[list_features].shift(lag)\n",
    "        df_shifted[list_target] = df_original_data[list_target]\n",
    "        df_shifted = df_shifted[list_all]\n",
    "        \n",
    "        # calculate correlation feature lagged against the target\n",
    "        aux_corr_lags = df_shifted.corr()[list_target].T.reset_index(drop = True)\n",
    "        aux_corr_lags.index = [lag]\n",
    "        \n",
    "        # save results\n",
    "        df_corr_lags = pd.concat([df_corr_lags, aux_corr_lags])\n",
    "\n",
    "    # round correlation with 3 decimals\n",
    "    df_corr_lags = np.round(df_corr_lags, 3)\n",
    "    \n",
    "    return df_corr_lags"
   ]
  },
  {
   "cell_type": "code",
   "execution_count": null,
   "id": "0e4ca8ad-56f5-40f3-af7e-71ae2d9dd76a",
   "metadata": {},
   "outputs": [],
   "source": []
  },
  {
   "cell_type": "code",
   "execution_count": null,
   "id": "06782e2f-827c-425d-a5f1-749d026eae0a",
   "metadata": {},
   "outputs": [],
   "source": [
    "def plot_corr_lags_old(df_corr_lags):\n",
    "    \"\"\"\n",
    "    Dado un dataframe con auto correlaciones filas: lags // columnas: tags.\n",
    "    Hacer diferentes plots (uno por tag) para mostrar la tendencia de los valores de autocorrelación calculados para cada uno de los lags\n",
    "    \"\"\"\n",
    "\n",
    "    # Obtener la lista de variables\n",
    "    variables = df_corr_lags.columns.tolist()\n",
    "\n",
    "    # Crear los subplots\n",
    "    fig = make_subplots(rows=len(variables), cols=1, shared_xaxes=False, subplot_titles=variables)\n",
    "\n",
    "    # Agregar cada autocorrelación al subplot correspondiente\n",
    "    for i, variable in enumerate(variables):\n",
    "        fig.add_trace(go.Scatter(x=df_corr_lags.index, y=df_corr_lags[variable], name=variable), row=i+1, col=1)\n",
    "\n",
    "    # Actualizar el layout de los subplots\n",
    "    fig.update_layout(height=len(variables)*250, width=1600, title_text=\"Tendencia de Correlación con Lags\")\n",
    "\n",
    "    # Actualizar los títulos de los ejes x en cada subplot\n",
    "    # for i in range(len(variables)):\n",
    "    #     fig.update_xaxes(title_text=\"Lags\", row=i+1, col=1, autorange=\"reversed\")\n",
    "    #     fig.update_yaxes(title_text=\"Autocorrelación\", row=i+1, col=1)\n",
    "\n",
    "    return fig\n",
    "\n",
    "\n",
    "def plot_corr_features_lag_target(df_corr_lags, number_columns=2):\n",
    "    \"\"\"\n",
    "    Plot correlation of each feature againt a target. Each correlation is calculated with the feature lagged differents instance of time\n",
    "    The plot is a line. Axis y: corr. Axis x: lag\n",
    "\n",
    "    Args\n",
    "        df_corr_lags(dataframe): dataframe with the correlations of the features lagged against a target\n",
    "        number_columns (int): number columns in the plot\n",
    "\n",
    "    Return\n",
    "        fig (figure plotly): fig of plotly with the plot generated \n",
    "\n",
    "    TODO:\n",
    "        - inverter the y axis when the correlation is negative\n",
    "    \"\"\"\n",
    "\n",
    "    # get list of features\n",
    "    list_features = df_corr_lags.columns.tolist()\n",
    "\n",
    "    # get number of rows (number row = number of data / number of columns) (considering fixed the number of columns) \n",
    "    if (df_corr_lags.shape[1] % number_columns) != 0:\n",
    "        number_rows = (df_corr_lags.shape[1] // number_columns) + 1 \n",
    "    else:\n",
    "        number_rows = (df_corr_lags.shape[1] // number_columns)\n",
    "\n",
    "\n",
    "    ############################## \n",
    "    # create subplots\n",
    "    fig = make_subplots(rows = number_rows, \n",
    "                        cols = number_columns, \n",
    "                        subplot_titles = tuple(list_features),\n",
    "                        shared_xaxes = False\n",
    "                       )\n",
    "\n",
    "    # add subplot for each of the features -> feature\n",
    "    for index_feature, feature in enumerate(list_features):\n",
    "    \n",
    "        # obtener índices en el subplot (en plotly los índices comienzan en 1, por lo que debe sumarse un 1 a los resultados obtenidos)\n",
    "        row = (index_feature // number_columns) + 1\n",
    "        column = (index_feature % number_columns) + 1\n",
    "\n",
    "        # subplot each feature\n",
    "        fig.add_trace(go.Scatter(\n",
    "            x = df_corr_lags.index, \n",
    "            y = df_corr_lags[feature],\n",
    "            name = feature\n",
    "            ), \n",
    "        row = row, \n",
    "        col = column\n",
    "        )\n",
    "\n",
    "        # add y label and x label each subplot\n",
    "        fig.update_xaxes(title_text = \"Lag\", row = row, col = column)\n",
    "        fig.update_yaxes(title_text = \"Correlation\", row  =row, col = column)\n",
    "    \n",
    "    # change shape subplot\n",
    "    fig.update_layout(\n",
    "            height = 350 * number_rows, # largo\n",
    "            width = 850 * number_columns, # ancho\n",
    "      title_text=\"Plots of correlations features lagged against the target\",\n",
    "      title_x = 0.5, # centrar titulo\n",
    "      title_font = dict(size = 28)\n",
    "      )\n",
    "\n",
    "\n",
    "    # Actualizar los títulos de los ejes x en cada subplot\n",
    "    # for i in range(len(variables)):\n",
    "    #     fig.update_xaxes(title_text=\"Lags\", row=i+1, col=1, autorange=\"reversed\")\n",
    "    #     fig.update_yaxes(title_text=\"Autocorrelación\", row=i+1, col=1)\n",
    "    ############################## \n",
    "    \n",
    "    return fig"
   ]
  },
  {
   "cell_type": "code",
   "execution_count": null,
   "id": "e3fcb2b3-e9f9-40c4-bbb1-0b6e6783551e",
   "metadata": {},
   "outputs": [],
   "source": []
  },
  {
   "cell_type": "code",
   "execution_count": null,
   "id": "93b43a28-00fb-4837-a26f-ded1b7b45730",
   "metadata": {},
   "outputs": [],
   "source": [
    "# calculate correlations each feature lagged againts the target\n",
    "df_corr_features_lag_target = calculate_corr_features_lag_target(df = data, \n",
    "                                                                 target = 'T (degC)', \n",
    "                                                                 lags = 40\n",
    "                                                                )\n",
    "\n",
    "# plot correlations lagged\n",
    "fig_corr_lag = plot_corr_features_lag_target(df_corr_lags = df_corr_features_lag_target)\n",
    "\n",
    "# show\n",
    "fig_corr_lag.show()\n",
    "\n",
    "# save\n",
    "fig_corr_lag.write_html(\"output_eda/3_bivariate_analysis/plot_corr_features_lag.html\")\n",
    "pio.write_image(fig_corr_lag, \"output_eda/3_bivariate_analysis/plot_corr_features_lag.png\")"
   ]
  },
  {
   "cell_type": "code",
   "execution_count": null,
   "id": "2db29ecd-f32f-474a-8301-07cbbce08c3e",
   "metadata": {},
   "outputs": [],
   "source": []
  },
  {
   "cell_type": "code",
   "execution_count": null,
   "id": "e09c33ee-9516-405a-bfbf-15c1a3eea8f5",
   "metadata": {},
   "outputs": [],
   "source": [
    "data.head()"
   ]
  },
  {
   "cell_type": "code",
   "execution_count": null,
   "id": "99d51008-c5be-4700-9f72-3e87d8f7dfa1",
   "metadata": {},
   "outputs": [],
   "source": []
  },
  {
   "cell_type": "code",
   "execution_count": null,
   "id": "ed0c2714-1e59-4e22-8daa-b9bee7939ff3",
   "metadata": {},
   "outputs": [],
   "source": []
  },
  {
   "cell_type": "code",
   "execution_count": null,
   "id": "9b699d0c-39fb-407b-b1d2-3a35d9689188",
   "metadata": {},
   "outputs": [],
   "source": []
  }
 ],
 "metadata": {
  "kernelspec": {
   "display_name": "Python 3 (ipykernel)",
   "language": "python",
   "name": "python3"
  },
  "language_info": {
   "codemirror_mode": {
    "name": "ipython",
    "version": 3
   },
   "file_extension": ".py",
   "mimetype": "text/x-python",
   "name": "python",
   "nbconvert_exporter": "python",
   "pygments_lexer": "ipython3",
   "version": "3.10.14"
  }
 },
 "nbformat": 4,
 "nbformat_minor": 5
}
