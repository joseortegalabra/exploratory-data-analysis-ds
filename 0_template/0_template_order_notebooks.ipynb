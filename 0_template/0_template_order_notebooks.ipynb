{
 "cells": [
  {
   "cell_type": "markdown",
   "id": "d6903d06-c7a4-43b7-b99b-3b075cb59636",
   "metadata": {},
   "source": [
    "# Template EDA\n",
    "Contents:\n",
    "- Notebooks with codes with differents analysis. \n",
    "- IMPORTANT: The notebooks are numerated to indicate the orden in which were writted but it not represent the order that it can be used to analyse the data\n",
    "- IMPORTANT 2: The notebooks try to be structed such as:\n",
    "\t- eda numbers: For example generate a dataframe with the correlations\n",
    "\t- eda graph - seaborn - matplotlib: generate a plot with seaborn-plotly using as input the eda numbers (when it is possible)\n",
    "\t- eda graph - plotly: generate a plot with plotly using as input the eda numbers (when it is possible)\n",
    "\t- synthesize: join the previous code in a function"
   ]
  },
  {
   "cell_type": "code",
   "execution_count": 1,
   "id": "004d0d96-8ee8-49a3-9a8d-c0d00d001633",
   "metadata": {},
   "outputs": [
    {
     "name": "stdout",
     "output_type": "stream",
     "text": [
      "root path:  /Users/joseortega/Documents/GitHub/exploratory-data-analysis-ds\n"
     ]
    }
   ],
   "source": [
    "import os\n",
    "# fix root path to save outputs\n",
    "actual_path = os.path.abspath(os.getcwd())\n",
    "list_root_path = actual_path.split('/')[:-1]\n",
    "root_path = '/'.join(list_root_path)\n",
    "os.chdir(root_path)\n",
    "print('root path: ', root_path)"
   ]
  },
  {
   "cell_type": "code",
   "execution_count": null,
   "id": "88404dc0-445a-421c-9b69-15aa7c178e3e",
   "metadata": {},
   "outputs": [],
   "source": []
  },
  {
   "cell_type": "markdown",
   "id": "62bcd08e-29d2-4eec-8de0-40fa871442a5",
   "metadata": {},
   "source": [
    "### 0. Package and load data"
   ]
  },
  {
   "cell_type": "code",
   "execution_count": 2,
   "id": "9e4191dd-548e-474c-8d0b-b1187c79ec46",
   "metadata": {},
   "outputs": [],
   "source": [
    "from sklearn.datasets import fetch_california_housing\n",
    "import json\n",
    "\n",
    "# plotly\n",
    "import plotly\n",
    "import plotly.express as px\n",
    "import plotly.graph_objects as go\n",
    "import plotly.io as pio\n",
    "from plotly.subplots import make_subplots"
   ]
  },
  {
   "cell_type": "code",
   "execution_count": 3,
   "id": "530a1dec-ca85-405b-ba77-ccfabf910c97",
   "metadata": {},
   "outputs": [
    {
     "data": {
      "text/html": [
       "<div>\n",
       "<style scoped>\n",
       "    .dataframe tbody tr th:only-of-type {\n",
       "        vertical-align: middle;\n",
       "    }\n",
       "\n",
       "    .dataframe tbody tr th {\n",
       "        vertical-align: top;\n",
       "    }\n",
       "\n",
       "    .dataframe thead th {\n",
       "        text-align: right;\n",
       "    }\n",
       "</style>\n",
       "<table border=\"1\" class=\"dataframe\">\n",
       "  <thead>\n",
       "    <tr style=\"text-align: right;\">\n",
       "      <th></th>\n",
       "      <th>MedInc</th>\n",
       "      <th>HouseAge</th>\n",
       "      <th>AveRooms</th>\n",
       "      <th>AveBedrms</th>\n",
       "      <th>Population</th>\n",
       "      <th>AveOccup</th>\n",
       "      <th>Latitude</th>\n",
       "      <th>Longitude</th>\n",
       "      <th>Price</th>\n",
       "    </tr>\n",
       "  </thead>\n",
       "  <tbody>\n",
       "    <tr>\n",
       "      <th>0</th>\n",
       "      <td>8.3252</td>\n",
       "      <td>41.0</td>\n",
       "      <td>6.984127</td>\n",
       "      <td>1.023810</td>\n",
       "      <td>322.0</td>\n",
       "      <td>2.555556</td>\n",
       "      <td>37.88</td>\n",
       "      <td>-122.23</td>\n",
       "      <td>4.526</td>\n",
       "    </tr>\n",
       "    <tr>\n",
       "      <th>1</th>\n",
       "      <td>8.3014</td>\n",
       "      <td>21.0</td>\n",
       "      <td>6.238137</td>\n",
       "      <td>0.971880</td>\n",
       "      <td>2401.0</td>\n",
       "      <td>2.109842</td>\n",
       "      <td>37.86</td>\n",
       "      <td>-122.22</td>\n",
       "      <td>3.585</td>\n",
       "    </tr>\n",
       "    <tr>\n",
       "      <th>2</th>\n",
       "      <td>7.2574</td>\n",
       "      <td>52.0</td>\n",
       "      <td>8.288136</td>\n",
       "      <td>1.073446</td>\n",
       "      <td>496.0</td>\n",
       "      <td>2.802260</td>\n",
       "      <td>37.85</td>\n",
       "      <td>-122.24</td>\n",
       "      <td>3.521</td>\n",
       "    </tr>\n",
       "    <tr>\n",
       "      <th>3</th>\n",
       "      <td>5.6431</td>\n",
       "      <td>52.0</td>\n",
       "      <td>5.817352</td>\n",
       "      <td>1.073059</td>\n",
       "      <td>558.0</td>\n",
       "      <td>2.547945</td>\n",
       "      <td>37.85</td>\n",
       "      <td>-122.25</td>\n",
       "      <td>3.413</td>\n",
       "    </tr>\n",
       "    <tr>\n",
       "      <th>4</th>\n",
       "      <td>3.8462</td>\n",
       "      <td>52.0</td>\n",
       "      <td>6.281853</td>\n",
       "      <td>1.081081</td>\n",
       "      <td>565.0</td>\n",
       "      <td>2.181467</td>\n",
       "      <td>37.85</td>\n",
       "      <td>-122.25</td>\n",
       "      <td>3.422</td>\n",
       "    </tr>\n",
       "  </tbody>\n",
       "</table>\n",
       "</div>"
      ],
      "text/plain": [
       "   MedInc  HouseAge  AveRooms  AveBedrms  Population  AveOccup  Latitude  \\\n",
       "0  8.3252      41.0  6.984127   1.023810       322.0  2.555556     37.88   \n",
       "1  8.3014      21.0  6.238137   0.971880      2401.0  2.109842     37.86   \n",
       "2  7.2574      52.0  8.288136   1.073446       496.0  2.802260     37.85   \n",
       "3  5.6431      52.0  5.817352   1.073059       558.0  2.547945     37.85   \n",
       "4  3.8462      52.0  6.281853   1.081081       565.0  2.181467     37.85   \n",
       "\n",
       "   Longitude  Price  \n",
       "0    -122.23  4.526  \n",
       "1    -122.22  3.585  \n",
       "2    -122.24  3.521  \n",
       "3    -122.25  3.413  \n",
       "4    -122.25  3.422  "
      ]
     },
     "execution_count": 3,
     "metadata": {},
     "output_type": "execute_result"
    }
   ],
   "source": [
    "data_X, data_y = fetch_california_housing(return_X_y=True, as_frame=True)\n",
    "\n",
    "# joinn and rename dataset\n",
    "df = data_X.copy()\n",
    "df['Price'] = data_y\n",
    "df.head()"
   ]
  },
  {
   "cell_type": "code",
   "execution_count": null,
   "id": "5e3cc072-19ca-4df2-b419-c48579a6c1c8",
   "metadata": {},
   "outputs": [],
   "source": []
  },
  {
   "cell_type": "code",
   "execution_count": null,
   "id": "1e130df8-33e4-432f-8c6f-90c0a4dbf30e",
   "metadata": {},
   "outputs": [],
   "source": []
  },
  {
   "cell_type": "markdown",
   "id": "a3f71513-aaf0-4222-ae94-0e4aa6bb4be0",
   "metadata": {},
   "source": [
    "### 1. Codes to generate the EDA (numbers)"
   ]
  },
  {
   "cell_type": "code",
   "execution_count": null,
   "id": "44a53bff-0b71-4f4d-84e6-c34ff6cc0824",
   "metadata": {},
   "outputs": [],
   "source": []
  },
  {
   "cell_type": "code",
   "execution_count": null,
   "id": "dd517fb8-5f8f-4370-be5f-a7bd9cee1722",
   "metadata": {},
   "outputs": [],
   "source": []
  },
  {
   "cell_type": "code",
   "execution_count": null,
   "id": "ce1d0b6f-faeb-4c1b-9379-e5a854ef829a",
   "metadata": {},
   "outputs": [],
   "source": []
  },
  {
   "cell_type": "code",
   "execution_count": null,
   "id": "d397511b-0c01-4fea-8e26-4d92741bd1b7",
   "metadata": {},
   "outputs": [],
   "source": []
  },
  {
   "cell_type": "markdown",
   "id": "954f5f55-fee8-4cc4-a5ac-7b75a31e232d",
   "metadata": {},
   "source": [
    "### 2. Codes to plot the EDA (graphs) - seaborn - matplotlib"
   ]
  },
  {
   "cell_type": "code",
   "execution_count": null,
   "id": "a552710b-eb3f-4e2e-b78c-5154ce35954c",
   "metadata": {},
   "outputs": [],
   "source": []
  },
  {
   "cell_type": "code",
   "execution_count": null,
   "id": "0fa6fb2e-830f-4d03-8fe9-64af55e50af3",
   "metadata": {},
   "outputs": [],
   "source": []
  },
  {
   "cell_type": "code",
   "execution_count": null,
   "id": "79163793-f652-4b12-b15c-92f6dea65354",
   "metadata": {},
   "outputs": [],
   "source": []
  },
  {
   "cell_type": "code",
   "execution_count": null,
   "id": "629fb0b7-9ceb-4816-aa08-949a0b4064df",
   "metadata": {},
   "outputs": [],
   "source": []
  },
  {
   "cell_type": "markdown",
   "id": "269f5a56-e193-4796-bedd-3cf05c94023f",
   "metadata": {},
   "source": [
    "### 3. Codes to plot the EDA (graphs) - plotly"
   ]
  },
  {
   "cell_type": "code",
   "execution_count": null,
   "id": "610f2660-d40b-472d-8dde-71a02486c5f9",
   "metadata": {},
   "outputs": [],
   "source": []
  },
  {
   "cell_type": "code",
   "execution_count": null,
   "id": "0d870b0f-9c10-4f19-ad38-36d29115b3c8",
   "metadata": {},
   "outputs": [],
   "source": []
  },
  {
   "cell_type": "code",
   "execution_count": null,
   "id": "d817a84b-0aa6-43d0-9dda-373ab8485566",
   "metadata": {},
   "outputs": [],
   "source": []
  },
  {
   "cell_type": "code",
   "execution_count": null,
   "id": "a3d256a0-af93-432c-a61f-ecc559992506",
   "metadata": {},
   "outputs": [],
   "source": []
  },
  {
   "cell_type": "markdown",
   "id": "6adecfd0-65e3-4b93-8b08-c68e15b02b4c",
   "metadata": {},
   "source": [
    "### 4. Codes to synthesize the analysis\n",
    "To do the code structed and satisfy the objetive, in each function it is neccesary to return the figure"
   ]
  },
  {
   "cell_type": "code",
   "execution_count": 4,
   "id": "80dff743-7525-4f5e-a7b6-e4bda48d18af",
   "metadata": {},
   "outputs": [],
   "source": [
    "def plot_graph():\n",
    "    \"\"\"\n",
    "    Plot histogram of a individual feature\n",
    "\n",
    "    Args\n",
    "\n",
    "    Return\n",
    "        fig (figure plotly): fig of plotly with the plot generated\n",
    "    \"\"\"\n",
    "\n",
    "\n",
    "    title_x = 0.5, # centrar titulo\n",
    "    title_font = dict(size = 28)\n",
    "    \n",
    "    \n",
    "    return 0"
   ]
  },
  {
   "cell_type": "code",
   "execution_count": null,
   "id": "f37daf87-85d4-4448-8715-3d6a7eb644ed",
   "metadata": {},
   "outputs": [],
   "source": []
  },
  {
   "cell_type": "code",
   "execution_count": null,
   "id": "8e5fb870-5fd1-45f5-a176-606ac8bdaa26",
   "metadata": {},
   "outputs": [],
   "source": []
  },
  {
   "cell_type": "code",
   "execution_count": null,
   "id": "6cf3d2e0-2b7f-4c21-8856-69a6e37d76d2",
   "metadata": {},
   "outputs": [],
   "source": []
  },
  {
   "cell_type": "code",
   "execution_count": null,
   "id": "62d0fd96-2f8d-4d29-8d62-70b5ebd8350a",
   "metadata": {},
   "outputs": [],
   "source": []
  },
  {
   "cell_type": "code",
   "execution_count": 6,
   "id": "2441ee3a-f5fe-4ebe-9f37-f6d0784a755f",
   "metadata": {},
   "outputs": [
    {
     "name": "stdout",
     "output_type": "stream",
     "text": [
      "Collecting kaleido\n",
      "  Downloading kaleido-0.2.1-py2.py3-none-macosx_11_0_arm64.whl.metadata (15 kB)\n",
      "Downloading kaleido-0.2.1-py2.py3-none-macosx_11_0_arm64.whl (85.8 MB)\n",
      "\u001b[2K   \u001b[90m━━━━━━━━━━━━━━━━━━━━━━━━━━━━━━━━━━━━━━━━\u001b[0m \u001b[32m85.8/85.8 MB\u001b[0m \u001b[31m52.8 MB/s\u001b[0m eta \u001b[36m0:00:00\u001b[0m00:01\u001b[0m00:01\u001b[0m\n",
      "\u001b[?25hInstalling collected packages: kaleido\n",
      "Successfully installed kaleido-0.2.1\n"
     ]
    }
   ],
   "source": [
    "# package neccesary to save plots\n",
    "!pip install -U kaleido"
   ]
  },
  {
   "cell_type": "code",
   "execution_count": 7,
   "id": "f5b078bb-73b7-45fd-84c4-91f50032cf10",
   "metadata": {},
   "outputs": [
    {
     "ename": "NameError",
     "evalue": "name 'fig_report' is not defined",
     "output_type": "error",
     "traceback": [
      "\u001b[0;31m---------------------------------------------------------------------------\u001b[0m",
      "\u001b[0;31mNameError\u001b[0m                                 Traceback (most recent call last)",
      "Cell \u001b[0;32mIn[7], line 2\u001b[0m\n\u001b[1;32m      1\u001b[0m \u001b[38;5;66;03m# save\u001b[39;00m\n\u001b[0;32m----> 2\u001b[0m \u001b[43mfig_report\u001b[49m\u001b[38;5;241m.\u001b[39mwrite_html(\u001b[38;5;124m\"\u001b[39m\u001b[38;5;124moutput_eda/0_template/notebookN/eda_report.html\u001b[39m\u001b[38;5;124m\"\u001b[39m)\n",
      "\u001b[0;31mNameError\u001b[0m: name 'fig_report' is not defined"
     ]
    }
   ],
   "source": [
    "# save\n",
    "fig_report.write_html(\"output_eda/0_template/notebookN/eda_report.html\")"
   ]
  },
  {
   "cell_type": "code",
   "execution_count": null,
   "id": "18e52061-f489-4b10-9db2-a6fbaf4d415c",
   "metadata": {},
   "outputs": [],
   "source": []
  }
 ],
 "metadata": {
  "kernelspec": {
   "display_name": "Python 3 (ipykernel)",
   "language": "python",
   "name": "python3"
  },
  "language_info": {
   "codemirror_mode": {
    "name": "ipython",
    "version": 3
   },
   "file_extension": ".py",
   "mimetype": "text/x-python",
   "name": "python",
   "nbconvert_exporter": "python",
   "pygments_lexer": "ipython3",
   "version": "3.10.14"
  }
 },
 "nbformat": 4,
 "nbformat_minor": 5
}
