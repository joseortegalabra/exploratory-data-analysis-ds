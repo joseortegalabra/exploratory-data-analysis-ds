{
 "cells": [
  {
   "cell_type": "markdown",
   "id": "8437e04c-f2f8-484b-b778-2de617676be4",
   "metadata": {},
   "source": [
    "# INTRO SEGMENTATION\n",
    "\n",
    "It consists of segmenting the data according to some criteria and carrying out the previous analyzes considering this separation of the data into segments.\n",
    "\n",
    "Segmenting the data, a priori, can be done considering 2 main criteria and different approaches to analyze different circumstances of the data:\n",
    "\n",
    "- **Segment the target**. Segment the target variable into N groups. In this way, there is implicit segmentation in the data and we can see what characteristics can influence more or less different segments of the target variable.\n",
    "  \n",
    "- **Segment characteristics by some business condition**. Some business condition or condition of some key characteristic can be considered which segments the data into groups that according to expert knowledge are different groups.\n",
    "\n",
    "In both cases, when performing data segmentation, what is needed is to have a column in the dataframe with categorical values that represent the data segmentation. This column with categorical values can be strings, and it is recommended that they be so that in the generated graphs you can interpret what the different categories into which the data was separated are.\n",
    "\n",
    "To segment the data, different techniques can be used, from segmenting by expert knowledge of the business that the data represents as mentioned above or also segmenting by percentiles, etc."
   ]
  },
  {
   "cell_type": "code",
   "execution_count": 1,
   "id": "5ed77a35-4de6-4f81-88ca-c9ca6aeee9a0",
   "metadata": {},
   "outputs": [
    {
     "name": "stdout",
     "output_type": "stream",
     "text": [
      "root path:  /Users/joseortega/Documents/GitHub/exploratory-data-analysis-ds\n"
     ]
    }
   ],
   "source": [
    "import os\n",
    "# fix root path to save outputs\n",
    "actual_path = os.path.abspath(os.getcwd())\n",
    "list_root_path = actual_path.split('/')[:-1]\n",
    "root_path = '/'.join(list_root_path)\n",
    "os.chdir(root_path)\n",
    "print('root path: ', root_path)"
   ]
  },
  {
   "cell_type": "code",
   "execution_count": null,
   "id": "d1fed43e-f8b0-482d-8770-f8b1da88e9f8",
   "metadata": {},
   "outputs": [],
   "source": []
  },
  {
   "cell_type": "markdown",
   "id": "93a26169-0032-44a9-90e7-6d868991d204",
   "metadata": {},
   "source": [
    "### 0. Package and load data"
   ]
  },
  {
   "cell_type": "code",
   "execution_count": 2,
   "id": "004a52dd-b8aa-496a-9d0f-fe6a7a345e3c",
   "metadata": {},
   "outputs": [],
   "source": [
    "from sklearn.datasets import fetch_california_housing\n",
    "import json\n",
    "import pandas as pd\n",
    "import numpy as np\n",
    "\n",
    "# plotly\n",
    "import plotly\n",
    "import plotly.express as px\n",
    "import plotly.graph_objects as go\n",
    "import plotly.io as pio\n",
    "from plotly.subplots import make_subplots"
   ]
  },
  {
   "cell_type": "code",
   "execution_count": 3,
   "id": "06b76fbf-6076-407f-8fd3-6fab3dfb0208",
   "metadata": {
    "scrolled": true
   },
   "outputs": [
    {
     "data": {
      "text/html": [
       "<div>\n",
       "<style scoped>\n",
       "    .dataframe tbody tr th:only-of-type {\n",
       "        vertical-align: middle;\n",
       "    }\n",
       "\n",
       "    .dataframe tbody tr th {\n",
       "        vertical-align: top;\n",
       "    }\n",
       "\n",
       "    .dataframe thead th {\n",
       "        text-align: right;\n",
       "    }\n",
       "</style>\n",
       "<table border=\"1\" class=\"dataframe\">\n",
       "  <thead>\n",
       "    <tr style=\"text-align: right;\">\n",
       "      <th></th>\n",
       "      <th>MedInc</th>\n",
       "      <th>HouseAge</th>\n",
       "      <th>AveRooms</th>\n",
       "      <th>AveBedrms</th>\n",
       "      <th>Population</th>\n",
       "      <th>AveOccup</th>\n",
       "      <th>Latitude</th>\n",
       "      <th>Longitude</th>\n",
       "      <th>Price</th>\n",
       "    </tr>\n",
       "  </thead>\n",
       "  <tbody>\n",
       "    <tr>\n",
       "      <th>0</th>\n",
       "      <td>8.3252</td>\n",
       "      <td>41.0</td>\n",
       "      <td>6.984127</td>\n",
       "      <td>1.023810</td>\n",
       "      <td>322.0</td>\n",
       "      <td>2.555556</td>\n",
       "      <td>37.88</td>\n",
       "      <td>-122.23</td>\n",
       "      <td>4.526</td>\n",
       "    </tr>\n",
       "    <tr>\n",
       "      <th>1</th>\n",
       "      <td>8.3014</td>\n",
       "      <td>21.0</td>\n",
       "      <td>6.238137</td>\n",
       "      <td>0.971880</td>\n",
       "      <td>2401.0</td>\n",
       "      <td>2.109842</td>\n",
       "      <td>37.86</td>\n",
       "      <td>-122.22</td>\n",
       "      <td>3.585</td>\n",
       "    </tr>\n",
       "    <tr>\n",
       "      <th>2</th>\n",
       "      <td>7.2574</td>\n",
       "      <td>52.0</td>\n",
       "      <td>8.288136</td>\n",
       "      <td>1.073446</td>\n",
       "      <td>496.0</td>\n",
       "      <td>2.802260</td>\n",
       "      <td>37.85</td>\n",
       "      <td>-122.24</td>\n",
       "      <td>3.521</td>\n",
       "    </tr>\n",
       "    <tr>\n",
       "      <th>3</th>\n",
       "      <td>5.6431</td>\n",
       "      <td>52.0</td>\n",
       "      <td>5.817352</td>\n",
       "      <td>1.073059</td>\n",
       "      <td>558.0</td>\n",
       "      <td>2.547945</td>\n",
       "      <td>37.85</td>\n",
       "      <td>-122.25</td>\n",
       "      <td>3.413</td>\n",
       "    </tr>\n",
       "    <tr>\n",
       "      <th>4</th>\n",
       "      <td>3.8462</td>\n",
       "      <td>52.0</td>\n",
       "      <td>6.281853</td>\n",
       "      <td>1.081081</td>\n",
       "      <td>565.0</td>\n",
       "      <td>2.181467</td>\n",
       "      <td>37.85</td>\n",
       "      <td>-122.25</td>\n",
       "      <td>3.422</td>\n",
       "    </tr>\n",
       "  </tbody>\n",
       "</table>\n",
       "</div>"
      ],
      "text/plain": [
       "   MedInc  HouseAge  AveRooms  AveBedrms  Population  AveOccup  Latitude  \\\n",
       "0  8.3252      41.0  6.984127   1.023810       322.0  2.555556     37.88   \n",
       "1  8.3014      21.0  6.238137   0.971880      2401.0  2.109842     37.86   \n",
       "2  7.2574      52.0  8.288136   1.073446       496.0  2.802260     37.85   \n",
       "3  5.6431      52.0  5.817352   1.073059       558.0  2.547945     37.85   \n",
       "4  3.8462      52.0  6.281853   1.081081       565.0  2.181467     37.85   \n",
       "\n",
       "   Longitude  Price  \n",
       "0    -122.23  4.526  \n",
       "1    -122.22  3.585  \n",
       "2    -122.24  3.521  \n",
       "3    -122.25  3.413  \n",
       "4    -122.25  3.422  "
      ]
     },
     "execution_count": 3,
     "metadata": {},
     "output_type": "execute_result"
    }
   ],
   "source": [
    "data_X, data_y = fetch_california_housing(return_X_y=True, as_frame=True)\n",
    "\n",
    "# joinn and rename dataset\n",
    "data = data_X.copy()\n",
    "data['Price'] = data_y\n",
    "data.head()"
   ]
  },
  {
   "cell_type": "code",
   "execution_count": 4,
   "id": "ebf61826-bf9e-4a39-8245-f4c1783209de",
   "metadata": {},
   "outputs": [],
   "source": [
    "data_example = data.copy()"
   ]
  },
  {
   "cell_type": "code",
   "execution_count": null,
   "id": "ad8f886a-6ff3-4d16-9125-95b1df3bdd0d",
   "metadata": {},
   "outputs": [],
   "source": []
  },
  {
   "cell_type": "markdown",
   "id": "5908fdd6-d627-4808-80b4-2069f751726f",
   "metadata": {},
   "source": [
    "## Generate intervals and save data"
   ]
  },
  {
   "cell_type": "markdown",
   "id": "b4015ca3-2328-42d7-8cbe-2b0537d77139",
   "metadata": {},
   "source": [
    "### 1. Segment data by target/feature\n",
    "Segment data by target or feature considering a custom intervals or pecentile/decil"
   ]
  },
  {
   "cell_type": "markdown",
   "id": "f46c6671-a67b-4277-a880-74352fcbc1b9",
   "metadata": {},
   "source": [
    "#### hist"
   ]
  },
  {
   "cell_type": "code",
   "execution_count": 5,
   "id": "c6b53043-8675-40ca-a7c2-3227ae9d7fcf",
   "metadata": {},
   "outputs": [
    {
     "data": {
      "text/plain": [
       "<Axes: >"
      ]
     },
     "execution_count": 5,
     "metadata": {},
     "output_type": "execute_result"
    },
    {
     "data": {
      "image/png": "[encoded data removed]",
      "text/plain": [
       "<Figure size 640x480 with 1 Axes>"
      ]
     },
     "metadata": {},
     "output_type": "display_data"
    }
   ],
   "source": [
    "data_example['Price'].hist()"
   ]
  },
  {
   "cell_type": "code",
   "execution_count": 6,
   "id": "62484362-b950-4f57-93ba-b489cab83776",
   "metadata": {},
   "outputs": [
    {
     "data": {
      "text/plain": [
       "<Axes: >"
      ]
     },
     "execution_count": 6,
     "metadata": {},
     "output_type": "execute_result"
    },
    {
     "data": {
      "image/png": "[encoded data removed]",
      "text/plain": [
       "<Figure size 640x480 with 1 Axes>"
      ]
     },
     "metadata": {},
     "output_type": "display_data"
    }
   ],
   "source": [
    "data_example['HouseAge'].hist()"
   ]
  },
  {
   "cell_type": "code",
   "execution_count": 7,
   "id": "eae0bc96-fc60-4917-9493-55b456b75c9d",
   "metadata": {},
   "outputs": [
    {
     "data": {
      "text/plain": [
       "<Axes: >"
      ]
     },
     "execution_count": 7,
     "metadata": {},
     "output_type": "execute_result"
    },
    {
     "data": {
      "image/png": "[encoded data removed]",
      "text/plain": [
       "<Figure size 640x480 with 1 Axes>"
      ]
     },
     "metadata": {},
     "output_type": "display_data"
    }
   ],
   "source": [
    "data_example['MedInc'].hist()"
   ]
  },
  {
   "cell_type": "markdown",
   "id": "4f93f40c-b3ee-4f89-a073-81fc1f7bb37c",
   "metadata": {},
   "source": [
    "#### segment by custom interval"
   ]
  },
  {
   "cell_type": "code",
   "execution_count": 8,
   "id": "b66e30e4-20e8-44be-bdf1-fb513bc7ef5b",
   "metadata": {},
   "outputs": [],
   "source": [
    "# segment data by price - custom interval\n",
    "feature_split = 'Price'\n",
    "\n",
    "# define the limits of the intervals\n",
    "intervals = [0, 2, 3.5, 5.5]\n",
    "\n",
    "# define the labels for each segment defined by the custom interval\n",
    "labels_segments = ['Low Price', 'Medium Price', 'High Price']\n",
    "\n",
    "# apply pd.cut to generate intervals\n",
    "data_example[f'{feature_split}_interval'] = pd.cut(data_example[feature_split], bins=intervals, labels=labels_segments, include_lowest=True)"
   ]
  },
  {
   "cell_type": "code",
   "execution_count": 9,
   "id": "3f9ee84c-82b8-41eb-a638-bdadf980fea9",
   "metadata": {},
   "outputs": [
    {
     "data": {
      "text/html": [
       "<div>\n",
       "<style scoped>\n",
       "    .dataframe tbody tr th:only-of-type {\n",
       "        vertical-align: middle;\n",
       "    }\n",
       "\n",
       "    .dataframe tbody tr th {\n",
       "        vertical-align: top;\n",
       "    }\n",
       "\n",
       "    .dataframe thead th {\n",
       "        text-align: right;\n",
       "    }\n",
       "</style>\n",
       "<table border=\"1\" class=\"dataframe\">\n",
       "  <thead>\n",
       "    <tr style=\"text-align: right;\">\n",
       "      <th></th>\n",
       "      <th>MedInc</th>\n",
       "      <th>HouseAge</th>\n",
       "      <th>AveRooms</th>\n",
       "      <th>AveBedrms</th>\n",
       "      <th>Population</th>\n",
       "      <th>AveOccup</th>\n",
       "      <th>Latitude</th>\n",
       "      <th>Longitude</th>\n",
       "      <th>Price</th>\n",
       "      <th>Price_interval</th>\n",
       "    </tr>\n",
       "  </thead>\n",
       "  <tbody>\n",
       "    <tr>\n",
       "      <th>0</th>\n",
       "      <td>8.3252</td>\n",
       "      <td>41.0</td>\n",
       "      <td>6.984127</td>\n",
       "      <td>1.023810</td>\n",
       "      <td>322.0</td>\n",
       "      <td>2.555556</td>\n",
       "      <td>37.88</td>\n",
       "      <td>-122.23</td>\n",
       "      <td>4.526</td>\n",
       "      <td>High Price</td>\n",
       "    </tr>\n",
       "    <tr>\n",
       "      <th>1</th>\n",
       "      <td>8.3014</td>\n",
       "      <td>21.0</td>\n",
       "      <td>6.238137</td>\n",
       "      <td>0.971880</td>\n",
       "      <td>2401.0</td>\n",
       "      <td>2.109842</td>\n",
       "      <td>37.86</td>\n",
       "      <td>-122.22</td>\n",
       "      <td>3.585</td>\n",
       "      <td>High Price</td>\n",
       "    </tr>\n",
       "    <tr>\n",
       "      <th>2</th>\n",
       "      <td>7.2574</td>\n",
       "      <td>52.0</td>\n",
       "      <td>8.288136</td>\n",
       "      <td>1.073446</td>\n",
       "      <td>496.0</td>\n",
       "      <td>2.802260</td>\n",
       "      <td>37.85</td>\n",
       "      <td>-122.24</td>\n",
       "      <td>3.521</td>\n",
       "      <td>High Price</td>\n",
       "    </tr>\n",
       "    <tr>\n",
       "      <th>3</th>\n",
       "      <td>5.6431</td>\n",
       "      <td>52.0</td>\n",
       "      <td>5.817352</td>\n",
       "      <td>1.073059</td>\n",
       "      <td>558.0</td>\n",
       "      <td>2.547945</td>\n",
       "      <td>37.85</td>\n",
       "      <td>-122.25</td>\n",
       "      <td>3.413</td>\n",
       "      <td>Medium Price</td>\n",
       "    </tr>\n",
       "    <tr>\n",
       "      <th>4</th>\n",
       "      <td>3.8462</td>\n",
       "      <td>52.0</td>\n",
       "      <td>6.281853</td>\n",
       "      <td>1.081081</td>\n",
       "      <td>565.0</td>\n",
       "      <td>2.181467</td>\n",
       "      <td>37.85</td>\n",
       "      <td>-122.25</td>\n",
       "      <td>3.422</td>\n",
       "      <td>Medium Price</td>\n",
       "    </tr>\n",
       "    <tr>\n",
       "      <th>...</th>\n",
       "      <td>...</td>\n",
       "      <td>...</td>\n",
       "      <td>...</td>\n",
       "      <td>...</td>\n",
       "      <td>...</td>\n",
       "      <td>...</td>\n",
       "      <td>...</td>\n",
       "      <td>...</td>\n",
       "      <td>...</td>\n",
       "      <td>...</td>\n",
       "    </tr>\n",
       "    <tr>\n",
       "      <th>20635</th>\n",
       "      <td>1.5603</td>\n",
       "      <td>25.0</td>\n",
       "      <td>5.045455</td>\n",
       "      <td>1.133333</td>\n",
       "      <td>845.0</td>\n",
       "      <td>2.560606</td>\n",
       "      <td>39.48</td>\n",
       "      <td>-121.09</td>\n",
       "      <td>0.781</td>\n",
       "      <td>Low Price</td>\n",
       "    </tr>\n",
       "    <tr>\n",
       "      <th>20636</th>\n",
       "      <td>2.5568</td>\n",
       "      <td>18.0</td>\n",
       "      <td>6.114035</td>\n",
       "      <td>1.315789</td>\n",
       "      <td>356.0</td>\n",
       "      <td>3.122807</td>\n",
       "      <td>39.49</td>\n",
       "      <td>-121.21</td>\n",
       "      <td>0.771</td>\n",
       "      <td>Low Price</td>\n",
       "    </tr>\n",
       "    <tr>\n",
       "      <th>20637</th>\n",
       "      <td>1.7000</td>\n",
       "      <td>17.0</td>\n",
       "      <td>5.205543</td>\n",
       "      <td>1.120092</td>\n",
       "      <td>1007.0</td>\n",
       "      <td>2.325635</td>\n",
       "      <td>39.43</td>\n",
       "      <td>-121.22</td>\n",
       "      <td>0.923</td>\n",
       "      <td>Low Price</td>\n",
       "    </tr>\n",
       "    <tr>\n",
       "      <th>20638</th>\n",
       "      <td>1.8672</td>\n",
       "      <td>18.0</td>\n",
       "      <td>5.329513</td>\n",
       "      <td>1.171920</td>\n",
       "      <td>741.0</td>\n",
       "      <td>2.123209</td>\n",
       "      <td>39.43</td>\n",
       "      <td>-121.32</td>\n",
       "      <td>0.847</td>\n",
       "      <td>Low Price</td>\n",
       "    </tr>\n",
       "    <tr>\n",
       "      <th>20639</th>\n",
       "      <td>2.3886</td>\n",
       "      <td>16.0</td>\n",
       "      <td>5.254717</td>\n",
       "      <td>1.162264</td>\n",
       "      <td>1387.0</td>\n",
       "      <td>2.616981</td>\n",
       "      <td>39.37</td>\n",
       "      <td>-121.24</td>\n",
       "      <td>0.894</td>\n",
       "      <td>Low Price</td>\n",
       "    </tr>\n",
       "  </tbody>\n",
       "</table>\n",
       "<p>20640 rows × 10 columns</p>\n",
       "</div>"
      ],
      "text/plain": [
       "       MedInc  HouseAge  AveRooms  AveBedrms  Population  AveOccup  Latitude  \\\n",
       "0      8.3252      41.0  6.984127   1.023810       322.0  2.555556     37.88   \n",
       "1      8.3014      21.0  6.238137   0.971880      2401.0  2.109842     37.86   \n",
       "2      7.2574      52.0  8.288136   1.073446       496.0  2.802260     37.85   \n",
       "3      5.6431      52.0  5.817352   1.073059       558.0  2.547945     37.85   \n",
       "4      3.8462      52.0  6.281853   1.081081       565.0  2.181467     37.85   \n",
       "...       ...       ...       ...        ...         ...       ...       ...   \n",
       "20635  1.5603      25.0  5.045455   1.133333       845.0  2.560606     39.48   \n",
       "20636  2.5568      18.0  6.114035   1.315789       356.0  3.122807     39.49   \n",
       "20637  1.7000      17.0  5.205543   1.120092      1007.0  2.325635     39.43   \n",
       "20638  1.8672      18.0  5.329513   1.171920       741.0  2.123209     39.43   \n",
       "20639  2.3886      16.0  5.254717   1.162264      1387.0  2.616981     39.37   \n",
       "\n",
       "       Longitude  Price Price_interval  \n",
       "0        -122.23  4.526     High Price  \n",
       "1        -122.22  3.585     High Price  \n",
       "2        -122.24  3.521     High Price  \n",
       "3        -122.25  3.413   Medium Price  \n",
       "4        -122.25  3.422   Medium Price  \n",
       "...          ...    ...            ...  \n",
       "20635    -121.09  0.781      Low Price  \n",
       "20636    -121.21  0.771      Low Price  \n",
       "20637    -121.22  0.923      Low Price  \n",
       "20638    -121.32  0.847      Low Price  \n",
       "20639    -121.24  0.894      Low Price  \n",
       "\n",
       "[20640 rows x 10 columns]"
      ]
     },
     "execution_count": 9,
     "metadata": {},
     "output_type": "execute_result"
    }
   ],
   "source": [
    "data_example"
   ]
  },
  {
   "cell_type": "markdown",
   "id": "ab1c84a8-88db-4161-b6aa-11e32ccd73c5",
   "metadata": {},
   "source": [
    "#### segment by quartile"
   ]
  },
  {
   "cell_type": "code",
   "execution_count": 10,
   "id": "a92114a5-af35-4360-bf7c-5d3eea3585eb",
   "metadata": {},
   "outputs": [],
   "source": [
    "quartile = [0, 0.25, 0.5, 0.75, 1]\n",
    "labels_quartile = ['q1', 'q2', 'q3', 'q4']\n",
    "\n",
    "data_example[f'quartile_{feature_split}'] = pd.qcut(data_example[feature_split], q = quartile, labels = labels_quartile)"
   ]
  },
  {
   "cell_type": "code",
   "execution_count": 11,
   "id": "c283467e-399a-4f8f-9f3b-7b23963baa9f",
   "metadata": {},
   "outputs": [
    {
     "data": {
      "text/html": [
       "<div>\n",
       "<style scoped>\n",
       "    .dataframe tbody tr th:only-of-type {\n",
       "        vertical-align: middle;\n",
       "    }\n",
       "\n",
       "    .dataframe tbody tr th {\n",
       "        vertical-align: top;\n",
       "    }\n",
       "\n",
       "    .dataframe thead th {\n",
       "        text-align: right;\n",
       "    }\n",
       "</style>\n",
       "<table border=\"1\" class=\"dataframe\">\n",
       "  <thead>\n",
       "    <tr style=\"text-align: right;\">\n",
       "      <th></th>\n",
       "      <th>MedInc</th>\n",
       "      <th>HouseAge</th>\n",
       "      <th>AveRooms</th>\n",
       "      <th>AveBedrms</th>\n",
       "      <th>Population</th>\n",
       "      <th>AveOccup</th>\n",
       "      <th>Latitude</th>\n",
       "      <th>Longitude</th>\n",
       "      <th>Price</th>\n",
       "      <th>Price_interval</th>\n",
       "      <th>quartile_Price</th>\n",
       "    </tr>\n",
       "  </thead>\n",
       "  <tbody>\n",
       "    <tr>\n",
       "      <th>0</th>\n",
       "      <td>8.3252</td>\n",
       "      <td>41.0</td>\n",
       "      <td>6.984127</td>\n",
       "      <td>1.023810</td>\n",
       "      <td>322.0</td>\n",
       "      <td>2.555556</td>\n",
       "      <td>37.88</td>\n",
       "      <td>-122.23</td>\n",
       "      <td>4.526</td>\n",
       "      <td>High Price</td>\n",
       "      <td>q4</td>\n",
       "    </tr>\n",
       "    <tr>\n",
       "      <th>1</th>\n",
       "      <td>8.3014</td>\n",
       "      <td>21.0</td>\n",
       "      <td>6.238137</td>\n",
       "      <td>0.971880</td>\n",
       "      <td>2401.0</td>\n",
       "      <td>2.109842</td>\n",
       "      <td>37.86</td>\n",
       "      <td>-122.22</td>\n",
       "      <td>3.585</td>\n",
       "      <td>High Price</td>\n",
       "      <td>q4</td>\n",
       "    </tr>\n",
       "    <tr>\n",
       "      <th>2</th>\n",
       "      <td>7.2574</td>\n",
       "      <td>52.0</td>\n",
       "      <td>8.288136</td>\n",
       "      <td>1.073446</td>\n",
       "      <td>496.0</td>\n",
       "      <td>2.802260</td>\n",
       "      <td>37.85</td>\n",
       "      <td>-122.24</td>\n",
       "      <td>3.521</td>\n",
       "      <td>High Price</td>\n",
       "      <td>q4</td>\n",
       "    </tr>\n",
       "  </tbody>\n",
       "</table>\n",
       "</div>"
      ],
      "text/plain": [
       "   MedInc  HouseAge  AveRooms  AveBedrms  Population  AveOccup  Latitude  \\\n",
       "0  8.3252      41.0  6.984127   1.023810       322.0  2.555556     37.88   \n",
       "1  8.3014      21.0  6.238137   0.971880      2401.0  2.109842     37.86   \n",
       "2  7.2574      52.0  8.288136   1.073446       496.0  2.802260     37.85   \n",
       "\n",
       "   Longitude  Price Price_interval quartile_Price  \n",
       "0    -122.23  4.526     High Price             q4  \n",
       "1    -122.22  3.585     High Price             q4  \n",
       "2    -122.24  3.521     High Price             q4  "
      ]
     },
     "execution_count": 11,
     "metadata": {},
     "output_type": "execute_result"
    }
   ],
   "source": [
    "data_example.head(3)"
   ]
  },
  {
   "cell_type": "code",
   "execution_count": null,
   "id": "e345709d-a3d0-462f-8231-301f48b76951",
   "metadata": {},
   "outputs": [],
   "source": []
  },
  {
   "cell_type": "markdown",
   "id": "c83c9f7c-cb8d-481e-a764-cdc33118207f",
   "metadata": {},
   "source": [
    "#### segment by percentile - quintile"
   ]
  },
  {
   "cell_type": "code",
   "execution_count": 12,
   "id": "a7231046-d39c-4dc8-9aa0-663278ee4f62",
   "metadata": {},
   "outputs": [],
   "source": [
    "quintile = [0, 0.2, 0.4, 0.6, 0.8, 1]\n",
    "labels_quintile = ['q1', 'q2', 'q3', 'q4', 'q5']\n",
    "\n",
    "data_example[f'quintile_{feature_split}'] = pd.qcut(data_example[feature_split], q = quintile, labels = labels_quintile)"
   ]
  },
  {
   "cell_type": "code",
   "execution_count": 13,
   "id": "90ce00a3-05b7-487c-a41b-205d696e7571",
   "metadata": {},
   "outputs": [
    {
     "data": {
      "text/html": [
       "<div>\n",
       "<style scoped>\n",
       "    .dataframe tbody tr th:only-of-type {\n",
       "        vertical-align: middle;\n",
       "    }\n",
       "\n",
       "    .dataframe tbody tr th {\n",
       "        vertical-align: top;\n",
       "    }\n",
       "\n",
       "    .dataframe thead th {\n",
       "        text-align: right;\n",
       "    }\n",
       "</style>\n",
       "<table border=\"1\" class=\"dataframe\">\n",
       "  <thead>\n",
       "    <tr style=\"text-align: right;\">\n",
       "      <th></th>\n",
       "      <th>MedInc</th>\n",
       "      <th>HouseAge</th>\n",
       "      <th>AveRooms</th>\n",
       "      <th>AveBedrms</th>\n",
       "      <th>Population</th>\n",
       "      <th>AveOccup</th>\n",
       "      <th>Latitude</th>\n",
       "      <th>Longitude</th>\n",
       "      <th>Price</th>\n",
       "      <th>Price_interval</th>\n",
       "      <th>quartile_Price</th>\n",
       "      <th>quintile_Price</th>\n",
       "    </tr>\n",
       "  </thead>\n",
       "  <tbody>\n",
       "    <tr>\n",
       "      <th>0</th>\n",
       "      <td>8.3252</td>\n",
       "      <td>41.0</td>\n",
       "      <td>6.984127</td>\n",
       "      <td>1.023810</td>\n",
       "      <td>322.0</td>\n",
       "      <td>2.555556</td>\n",
       "      <td>37.88</td>\n",
       "      <td>-122.23</td>\n",
       "      <td>4.526</td>\n",
       "      <td>High Price</td>\n",
       "      <td>q4</td>\n",
       "      <td>q5</td>\n",
       "    </tr>\n",
       "    <tr>\n",
       "      <th>1</th>\n",
       "      <td>8.3014</td>\n",
       "      <td>21.0</td>\n",
       "      <td>6.238137</td>\n",
       "      <td>0.971880</td>\n",
       "      <td>2401.0</td>\n",
       "      <td>2.109842</td>\n",
       "      <td>37.86</td>\n",
       "      <td>-122.22</td>\n",
       "      <td>3.585</td>\n",
       "      <td>High Price</td>\n",
       "      <td>q4</td>\n",
       "      <td>q5</td>\n",
       "    </tr>\n",
       "    <tr>\n",
       "      <th>2</th>\n",
       "      <td>7.2574</td>\n",
       "      <td>52.0</td>\n",
       "      <td>8.288136</td>\n",
       "      <td>1.073446</td>\n",
       "      <td>496.0</td>\n",
       "      <td>2.802260</td>\n",
       "      <td>37.85</td>\n",
       "      <td>-122.24</td>\n",
       "      <td>3.521</td>\n",
       "      <td>High Price</td>\n",
       "      <td>q4</td>\n",
       "      <td>q5</td>\n",
       "    </tr>\n",
       "  </tbody>\n",
       "</table>\n",
       "</div>"
      ],
      "text/plain": [
       "   MedInc  HouseAge  AveRooms  AveBedrms  Population  AveOccup  Latitude  \\\n",
       "0  8.3252      41.0  6.984127   1.023810       322.0  2.555556     37.88   \n",
       "1  8.3014      21.0  6.238137   0.971880      2401.0  2.109842     37.86   \n",
       "2  7.2574      52.0  8.288136   1.073446       496.0  2.802260     37.85   \n",
       "\n",
       "   Longitude  Price Price_interval quartile_Price quintile_Price  \n",
       "0    -122.23  4.526     High Price             q4             q5  \n",
       "1    -122.22  3.585     High Price             q4             q5  \n",
       "2    -122.24  3.521     High Price             q4             q5  "
      ]
     },
     "execution_count": 13,
     "metadata": {},
     "output_type": "execute_result"
    }
   ],
   "source": [
    "data_example.head(3)"
   ]
  },
  {
   "cell_type": "code",
   "execution_count": null,
   "id": "6b85c97b-3ec4-43f2-94d0-57927057f498",
   "metadata": {},
   "outputs": [],
   "source": []
  },
  {
   "cell_type": "markdown",
   "id": "9b5076d6-1c50-4b29-a011-bf99d2e54fc8",
   "metadata": {},
   "source": [
    "#### segment by decile"
   ]
  },
  {
   "cell_type": "code",
   "execution_count": 14,
   "id": "41117aa3-3bad-4047-9a42-1ced0636a433",
   "metadata": {},
   "outputs": [],
   "source": [
    "decile = [0, 0.1, 0.2, 0.3, 0.4, 0.5, 0.6, 0.7, 0.8, 0.9, 1]\n",
    "labels_decile = ['d1', 'd2', 'd3', 'd4', 'd5', 'd6', 'd7', 'd8', 'd9', 'd10']\n",
    "\n",
    "data_example[f'decile_{feature_split}'] = pd.qcut(data_example[feature_split], q = decile, labels = labels_decile)"
   ]
  },
  {
   "cell_type": "code",
   "execution_count": 15,
   "id": "0ba9e5fb-e29f-45fa-ace4-54094a4f3cf2",
   "metadata": {},
   "outputs": [
    {
     "data": {
      "text/html": [
       "<div>\n",
       "<style scoped>\n",
       "    .dataframe tbody tr th:only-of-type {\n",
       "        vertical-align: middle;\n",
       "    }\n",
       "\n",
       "    .dataframe tbody tr th {\n",
       "        vertical-align: top;\n",
       "    }\n",
       "\n",
       "    .dataframe thead th {\n",
       "        text-align: right;\n",
       "    }\n",
       "</style>\n",
       "<table border=\"1\" class=\"dataframe\">\n",
       "  <thead>\n",
       "    <tr style=\"text-align: right;\">\n",
       "      <th></th>\n",
       "      <th>MedInc</th>\n",
       "      <th>HouseAge</th>\n",
       "      <th>AveRooms</th>\n",
       "      <th>AveBedrms</th>\n",
       "      <th>Population</th>\n",
       "      <th>AveOccup</th>\n",
       "      <th>Latitude</th>\n",
       "      <th>Longitude</th>\n",
       "      <th>Price</th>\n",
       "      <th>Price_interval</th>\n",
       "      <th>quartile_Price</th>\n",
       "      <th>quintile_Price</th>\n",
       "      <th>decile_Price</th>\n",
       "    </tr>\n",
       "  </thead>\n",
       "  <tbody>\n",
       "    <tr>\n",
       "      <th>0</th>\n",
       "      <td>8.3252</td>\n",
       "      <td>41.0</td>\n",
       "      <td>6.984127</td>\n",
       "      <td>1.023810</td>\n",
       "      <td>322.0</td>\n",
       "      <td>2.555556</td>\n",
       "      <td>37.88</td>\n",
       "      <td>-122.23</td>\n",
       "      <td>4.526</td>\n",
       "      <td>High Price</td>\n",
       "      <td>q4</td>\n",
       "      <td>q5</td>\n",
       "      <td>d10</td>\n",
       "    </tr>\n",
       "    <tr>\n",
       "      <th>1</th>\n",
       "      <td>8.3014</td>\n",
       "      <td>21.0</td>\n",
       "      <td>6.238137</td>\n",
       "      <td>0.971880</td>\n",
       "      <td>2401.0</td>\n",
       "      <td>2.109842</td>\n",
       "      <td>37.86</td>\n",
       "      <td>-122.22</td>\n",
       "      <td>3.585</td>\n",
       "      <td>High Price</td>\n",
       "      <td>q4</td>\n",
       "      <td>q5</td>\n",
       "      <td>d9</td>\n",
       "    </tr>\n",
       "    <tr>\n",
       "      <th>2</th>\n",
       "      <td>7.2574</td>\n",
       "      <td>52.0</td>\n",
       "      <td>8.288136</td>\n",
       "      <td>1.073446</td>\n",
       "      <td>496.0</td>\n",
       "      <td>2.802260</td>\n",
       "      <td>37.85</td>\n",
       "      <td>-122.24</td>\n",
       "      <td>3.521</td>\n",
       "      <td>High Price</td>\n",
       "      <td>q4</td>\n",
       "      <td>q5</td>\n",
       "      <td>d9</td>\n",
       "    </tr>\n",
       "  </tbody>\n",
       "</table>\n",
       "</div>"
      ],
      "text/plain": [
       "   MedInc  HouseAge  AveRooms  AveBedrms  Population  AveOccup  Latitude  \\\n",
       "0  8.3252      41.0  6.984127   1.023810       322.0  2.555556     37.88   \n",
       "1  8.3014      21.0  6.238137   0.971880      2401.0  2.109842     37.86   \n",
       "2  7.2574      52.0  8.288136   1.073446       496.0  2.802260     37.85   \n",
       "\n",
       "   Longitude  Price Price_interval quartile_Price quintile_Price decile_Price  \n",
       "0    -122.23  4.526     High Price             q4             q5          d10  \n",
       "1    -122.22  3.585     High Price             q4             q5           d9  \n",
       "2    -122.24  3.521     High Price             q4             q5           d9  "
      ]
     },
     "execution_count": 15,
     "metadata": {},
     "output_type": "execute_result"
    }
   ],
   "source": [
    "data_example.head(3)"
   ]
  },
  {
   "cell_type": "code",
   "execution_count": null,
   "id": "8096fa42-9144-4647-ae93-184fb153b559",
   "metadata": {},
   "outputs": [],
   "source": []
  },
  {
   "cell_type": "markdown",
   "id": "6a39f3dc-b4a5-41e9-9e6c-b88ef5b74a74",
   "metadata": {},
   "source": [
    "#### define name of the percertile with its values. \n",
    "For example:\n",
    "- q1 - 25-56\n",
    "- q2 - 56-70\n",
    "- q3 - 70-100\n",
    "\n",
    "Output a list of labels with this names"
   ]
  },
  {
   "cell_type": "code",
   "execution_count": 16,
   "id": "9fc8fbe8-2946-494f-8dee-5ea79b7b58d8",
   "metadata": {},
   "outputs": [],
   "source": [
    "# params\n",
    "list_percentile = quartile = [0, 0.25, 0.5, 0.75, 1]\n",
    "list_labels_percentile_base = labels_quartile = ['q1', 'q2', 'q3', 'q4']\n",
    "df = data_example\n",
    "var_segment = feature_split"
   ]
  },
  {
   "cell_type": "code",
   "execution_count": 17,
   "id": "006d7659-9b07-4bf0-affc-f065256b79f9",
   "metadata": {},
   "outputs": [
    {
     "data": {
      "text/plain": [
       "[0.15, 1.2, 1.8, 2.65, 5.0]"
      ]
     },
     "execution_count": 17,
     "metadata": {},
     "output_type": "execute_result"
    }
   ],
   "source": [
    "# get values of each percentile\n",
    "list_percentile_values = [df[var_segment].quantile(x).round(2) for x in list_percentile]\n",
    "list_percentile_values"
   ]
  },
  {
   "cell_type": "code",
   "execution_count": 18,
   "id": "aa8585c1-b823-4783-95ea-dd0120fb8a19",
   "metadata": {},
   "outputs": [
    {
     "data": {
      "text/plain": [
       "['0.15-1.2', '1.2-1.8', '1.8-2.65', '2.65-5.0']"
      ]
     },
     "execution_count": 18,
     "metadata": {},
     "output_type": "execute_result"
    }
   ],
   "source": [
    "# generate a list of string with the start value and end value of each interval\n",
    "list_percentile_start_end = [] \n",
    "for index in range(len(list_percentile_values)-1): \n",
    "    start_value = list_percentile_values[index]\n",
    "    end_value = list_percentile_values[index+1]\n",
    "    string_start_end = f'{start_value}-{end_value}'\n",
    "    list_percentile_start_end.append(string_start_end)\n",
    "\n",
    "list_percentile_start_end"
   ]
  },
  {
   "cell_type": "code",
   "execution_count": 19,
   "id": "f65f5fee-7170-4932-b35a-040026039ffb",
   "metadata": {},
   "outputs": [
    {
     "data": {
      "text/plain": [
       "['(0.15-1.2)', '(1.2-1.8)', '(1.8-2.65)', '(2.65-5.0)']"
      ]
     },
     "execution_count": 19,
     "metadata": {},
     "output_type": "execute_result"
    }
   ],
   "source": [
    "# output final v1 - only values start end\n",
    "list_labels_values_range = []\n",
    "for index in range(len(list_labels_percentile_base)):\n",
    "    string_output = f'({list_percentile_start_end[index]})'\n",
    "    list_labels_values_range.append(string_output)\n",
    "list_labels_values_range"
   ]
  },
  {
   "cell_type": "code",
   "execution_count": 20,
   "id": "d1fe1b56-095b-4997-8f00-e74d764da8a1",
   "metadata": {},
   "outputs": [
    {
     "data": {
      "text/plain": [
       "['q1 - (0.15-1.2)', 'q2 - (1.2-1.8)', 'q3 - (1.8-2.65)', 'q4 - (2.65-5.0)']"
      ]
     },
     "execution_count": 20,
     "metadata": {},
     "output_type": "execute_result"
    }
   ],
   "source": [
    "# output final v2 - percentile and values start end\n",
    "list_labels_percentile_values_range = []\n",
    "for index in range(len(list_labels_percentile_base)):\n",
    "    string_output = f'{list_labels_percentile_base[index]} - ({list_percentile_start_end[index]})'\n",
    "    list_labels_percentile_values_range.append(string_output)\n",
    "list_labels_percentile_values_range"
   ]
  },
  {
   "cell_type": "code",
   "execution_count": null,
   "id": "28ff2636-cbd7-4ed3-b48a-99ba0d765169",
   "metadata": {},
   "outputs": [],
   "source": []
  },
  {
   "cell_type": "markdown",
   "id": "8e84fb5f-96dc-4ed2-b24e-a343456c93bc",
   "metadata": {},
   "source": [
    "### 2. Codes to synthesize the analysis"
   ]
  },
  {
   "cell_type": "code",
   "execution_count": 21,
   "id": "2fa005aa-ee22-4e02-8dbb-183b3005f854",
   "metadata": {},
   "outputs": [],
   "source": [
    "def custom_segmentation(df, var_segment, intervals_segments, labels_segments):\n",
    "    \"\"\"\n",
    "    Given a dataframe, generate a new column with a categorical values that divide the data in differents segments. \n",
    "    Segment the data by a certain variable with a custom segmentation\n",
    "    \n",
    "    Args\n",
    "        df (dataframe): dataframe input\n",
    "        var_segment (string): variable feature/target used to segment the data\n",
    "        intervals_segments (list of numbers): list with the thresholds used to segment the data\n",
    "        labels_segments (list of strings): list with the names of the differents segments generated. Shape: len(intervals_segments) - 1\n",
    "\n",
    "    Return\n",
    "        df(dataframe): the input dataframe with a new column with the segment\n",
    "    \"\"\"\n",
    "\n",
    "    # apply pd.cut to generate intervals\n",
    "    df[f'{var_segment}_segments'] = pd.cut(df[var_segment], \n",
    "                                           bins = intervals_segments, \n",
    "                                           labels = labels_segments, \n",
    "                                           include_lowest = True\n",
    "                                          )\n",
    "\n",
    "    # order data by the custom segmentation - to generate plots it is neccesary to sort the data\n",
    "    # if the plot show a temporal relation like trends plots, it is necessary sort the data by index\n",
    "    df = df.sort_values(by = [var_segment])\n",
    "    \n",
    "    return df"
   ]
  },
  {
   "cell_type": "code",
   "execution_count": 22,
   "id": "f9589161-eec7-462d-8753-976fc7180c13",
   "metadata": {},
   "outputs": [],
   "source": [
    "def generate_labels_percentile_segmentation(df, var_segment, list_percentile, list_labels_percentile_base):\n",
    "    \"\"\"\n",
    "    Given a dataframe and a feature to segment in percentiles, calculate the labels of the segmentation\n",
    "    \n",
    "    Choices of labels:\n",
    "        labels_percentile: ['q1', 'q2', 'q3', 'q4']\n",
    "        labels_values: ['(0.15-1.2)', '(1.2-1.8)', '(1.8-2.65)', '(2.65-5.0)']\n",
    "        labels_percentile_values: ['q1 - (0.15-1.2)', 'q2 - (1.2-1.8)', 'q3 - (1.8-2.65)', 'q4 - (2.65-5.0)']\n",
    "        \n",
    "    Args\n",
    "        df (dataframe): dataframe input\n",
    "        var_segment (string): variable feature/target used to segment the data\n",
    "        list_percentile (list): list of floats with the percentiles to divide the data\n",
    "        list_labels_percentile_base (list): list of strings with the base labels of percentiles to divide the data \n",
    "\n",
    "    Return\n",
    "        list_labels_percentile_base, list_labels_values_range, list_labels_percentile_values_range (lists). list of the 3 types of labels generated\n",
    "    \"\"\"\n",
    "\n",
    "    # get values of each percentile\n",
    "    list_percentile_values = [df[var_segment].quantile(x).round(2) for x in list_percentile]\n",
    "    \n",
    "    # generate a list of string with the start value and end value of each interval\n",
    "    list_percentile_start_end = [] \n",
    "    for index in range(len(list_percentile_values)-1): \n",
    "        start_value = list_percentile_values[index]\n",
    "        end_value = list_percentile_values[index+1]\n",
    "        string_start_end = f'{start_value}-{end_value}'\n",
    "        list_percentile_start_end.append(string_start_end)\n",
    "    \n",
    "    # output final v0 - base\n",
    "    #list_labels_percentile_base\n",
    "    \n",
    "    # output final v1 - only values start end\n",
    "    list_labels_values_range = []\n",
    "    for index in range(len(list_labels_percentile_base)):\n",
    "        string_output = f'({list_percentile_start_end[index]})'\n",
    "        list_labels_values_range.append(string_output)\n",
    "    \n",
    "    # output final v2 - percentile and values start end\n",
    "    list_labels_percentile_values_range = []\n",
    "    for index in range(len(list_labels_percentile_base)):\n",
    "        string_output = f'{list_labels_percentile_base[index]} - ({list_percentile_start_end[index]})'\n",
    "        list_labels_percentile_values_range.append(string_output)\n",
    "    \n",
    "    return list_labels_percentile_base, list_labels_values_range, list_labels_percentile_values_range"
   ]
  },
  {
   "cell_type": "code",
   "execution_count": 23,
   "id": "39b1fc0b-8ffe-4776-974e-ffa709e78885",
   "metadata": {},
   "outputs": [],
   "source": [
    "def percentile_segmentation(df, var_segment, type_percentile):\n",
    "    \"\"\"\n",
    "    Given a dataframe, generate a new column with a categorical values that divide the data in differents segments. \n",
    "    Segment the data by a certain variable with a percentile segmentation. the segmentation could be by quartiles, quintiles, deciles\n",
    "    \n",
    "    Args\n",
    "        df (dataframe): dataframe input\n",
    "        var_segment (string): variable feature/target used to segment the data\n",
    "        type_percentile(string): type of percentile segmentation\n",
    "    \n",
    "    Return\n",
    "        df(dataframe): the input dataframe with a new column with the segment\n",
    "\n",
    "    TODO: THE LABELS GERATED AND USED ARE ONLY ['q1 - (0.15-1.2)', 'q2 - (1.2-1.8)', 'q3 - (1.8-2.65)', 'q4 - (2.65-5.0)']\n",
    "    ADD A ARGS TO SELECT THE KIND OF LABELS\n",
    "    \"\"\"\n",
    "\n",
    "    # validate input - TODO: create a decent unit test\n",
    "    choices_segmentation = ['quartile', 'quintile', 'decile']\n",
    "    if type_percentile not in choices_segmentation:\n",
    "        print('error in choices of segmentation')\n",
    "        print(f'Possibles choices: {choices_segmentation}')\n",
    "        return 0\n",
    "\n",
    "    # quartile\n",
    "    if type_percentile == 'quartile':\n",
    "        quartile = [0, 0.25, 0.5, 0.75, 1]\n",
    "        labels_quartile_base = ['q1', 'q2', 'q3', 'q4']\n",
    "        _, _,  labels_quartile = generate_labels_percentile_segmentation(df, var_segment, quartile, labels_quartile_base)\n",
    "        df[f'quartile_{var_segment}'] = pd.qcut(df[var_segment], q = quartile, labels = labels_quartile)\n",
    "    \n",
    "    # quintile\n",
    "    if type_percentile == 'quintile':\n",
    "        quintile = [0, 0.2, 0.4, 0.6, 0.8, 1]\n",
    "        labels_quintile_base = ['q1', 'q2', 'q3', 'q4', 'q5']\n",
    "        _, _,  labels_quintile = generate_labels_percentile_segmentation(df, var_segment, quintile, labels_quintile_base)\n",
    "        df[f'quintile_{var_segment}'] = pd.qcut(df[var_segment], q = quintile, labels = labels_quintile)\n",
    "\n",
    "\n",
    "    # decile\n",
    "    if type_percentile == 'decile':\n",
    "        decile = [0, 0.1, 0.2, 0.3, 0.4, 0.5, 0.6, 0.7, 0.8, 0.9, 1]\n",
    "        labels_decile_base = ['d1', 'd2', 'd3', 'd4', 'd5', 'd6', 'd7', 'd8', 'd9', 'd10']\n",
    "        _, _,  labels_decile = generate_labels_percentile_segmentation(df, var_segment, decile, labels_decile_base)\n",
    "        df[f'decile_{var_segment}'] = pd.qcut(df[var_segment], q = decile, labels = labels_decile)\n",
    "\n",
    "    return df"
   ]
  },
  {
   "cell_type": "code",
   "execution_count": 24,
   "id": "1dc51fbe-6bf3-435a-b288-28fd0eac103c",
   "metadata": {},
   "outputs": [],
   "source": [
    "# example 1 - target price - custom\n",
    "data = custom_segmentation(df = data, \n",
    "                           var_segment = 'Price', \n",
    "                           intervals_segments = [0, 2, 3.5, 5.5], \n",
    "                           labels_segments = ['Low Price', 'Medium Price', 'High Price']\n",
    "                          )"
   ]
  },
  {
   "cell_type": "code",
   "execution_count": 25,
   "id": "204aaeec-f85d-4367-b20a-e7b000bbf7f5",
   "metadata": {},
   "outputs": [],
   "source": [
    "# example 2 - feature HouseAge - custom\n",
    "feature_ = 'HouseAge'\n",
    "data = custom_segmentation(df = data,\n",
    "                           var_segment = feature_, \n",
    "                           intervals_segments = [data[feature_].min(), 20, 40, data[feature_].max()], \n",
    "                           labels_segments = ['Low Age', 'Medium Age', 'High Age']\n",
    "                          )"
   ]
  },
  {
   "cell_type": "code",
   "execution_count": 26,
   "id": "2f84d94c-8101-436b-a714-eb86a8cb2bbc",
   "metadata": {},
   "outputs": [],
   "source": [
    "# example 3 - feature MedInc by quartile\n",
    "feature_ = 'MedInc'\n",
    "data = percentile_segmentation(df = data, \n",
    "                        var_segment = feature_, \n",
    "                        type_percentile = 'quartile'\n",
    "                       )"
   ]
  },
  {
   "cell_type": "code",
   "execution_count": 27,
   "id": "97eebcb7-c615-4904-8aca-15efeb31ee72",
   "metadata": {},
   "outputs": [
    {
     "name": "stdout",
     "output_type": "stream",
     "text": [
      "error in choices of segmentation\n",
      "Possibles choices: ['quartile', 'quintile', 'decile']\n"
     ]
    },
    {
     "data": {
      "text/plain": [
       "0"
      ]
     },
     "execution_count": 27,
     "metadata": {},
     "output_type": "execute_result"
    }
   ],
   "source": [
    "# example 4 - feature MedInc by percentile - error\n",
    "feature_ = 'MedInc'\n",
    "percentile_segmentation(df = data, \n",
    "                        var_segment = feature_, \n",
    "                        type_percentile = 'percentile'\n",
    "                       )"
   ]
  },
  {
   "cell_type": "code",
   "execution_count": null,
   "id": "09ad9e6e-522b-4051-8531-712c6bcd6006",
   "metadata": {},
   "outputs": [],
   "source": []
  },
  {
   "cell_type": "markdown",
   "id": "034a98ef-4a22-4e6f-9798-efd89bcc7c86",
   "metadata": {},
   "source": [
    "### SAVE DATA SEGMENTATION"
   ]
  },
  {
   "cell_type": "code",
   "execution_count": 28,
   "id": "654310b8-e2ad-438d-a343-81187c305649",
   "metadata": {},
   "outputs": [],
   "source": [
    "data.to_pickle('data/data_segmentation.pkl')"
   ]
  },
  {
   "cell_type": "code",
   "execution_count": null,
   "id": "395f8c06-6ae9-44ac-853a-63477bc06eb5",
   "metadata": {},
   "outputs": [],
   "source": []
  },
  {
   "cell_type": "markdown",
   "id": "48998d83-592d-45a9-ac5d-4ba6f5a33a2c",
   "metadata": {},
   "source": [
    "### READ DATA"
   ]
  },
  {
   "cell_type": "code",
   "execution_count": 29,
   "id": "ddf44d5d-8a4d-45ed-82fe-75017eb9ed3c",
   "metadata": {},
   "outputs": [
    {
     "data": {
      "text/html": [
       "<div>\n",
       "<style scoped>\n",
       "    .dataframe tbody tr th:only-of-type {\n",
       "        vertical-align: middle;\n",
       "    }\n",
       "\n",
       "    .dataframe tbody tr th {\n",
       "        vertical-align: top;\n",
       "    }\n",
       "\n",
       "    .dataframe thead th {\n",
       "        text-align: right;\n",
       "    }\n",
       "</style>\n",
       "<table border=\"1\" class=\"dataframe\">\n",
       "  <thead>\n",
       "    <tr style=\"text-align: right;\">\n",
       "      <th></th>\n",
       "      <th>MedInc</th>\n",
       "      <th>HouseAge</th>\n",
       "      <th>AveRooms</th>\n",
       "      <th>AveBedrms</th>\n",
       "      <th>Population</th>\n",
       "      <th>AveOccup</th>\n",
       "      <th>Latitude</th>\n",
       "      <th>Longitude</th>\n",
       "      <th>Price</th>\n",
       "      <th>Price_segments</th>\n",
       "      <th>HouseAge_segments</th>\n",
       "      <th>quartile_MedInc</th>\n",
       "    </tr>\n",
       "  </thead>\n",
       "  <tbody>\n",
       "    <tr>\n",
       "      <th>3130</th>\n",
       "      <td>4.8750</td>\n",
       "      <td>1.0</td>\n",
       "      <td>5.533333</td>\n",
       "      <td>1.000000</td>\n",
       "      <td>32.0</td>\n",
       "      <td>2.133333</td>\n",
       "      <td>35.08</td>\n",
       "      <td>-117.95</td>\n",
       "      <td>1.41700</td>\n",
       "      <td>Low Price</td>\n",
       "      <td>Low Age</td>\n",
       "      <td>q4 - (4.74-15.0)</td>\n",
       "    </tr>\n",
       "    <tr>\n",
       "      <th>19536</th>\n",
       "      <td>4.2500</td>\n",
       "      <td>1.0</td>\n",
       "      <td>20.125000</td>\n",
       "      <td>2.928571</td>\n",
       "      <td>402.0</td>\n",
       "      <td>3.589286</td>\n",
       "      <td>37.65</td>\n",
       "      <td>-120.93</td>\n",
       "      <td>1.89200</td>\n",
       "      <td>Low Price</td>\n",
       "      <td>Low Age</td>\n",
       "      <td>q3 - (3.53-4.74)</td>\n",
       "    </tr>\n",
       "    <tr>\n",
       "      <th>18972</th>\n",
       "      <td>5.2636</td>\n",
       "      <td>1.0</td>\n",
       "      <td>7.694030</td>\n",
       "      <td>1.279851</td>\n",
       "      <td>872.0</td>\n",
       "      <td>3.253731</td>\n",
       "      <td>38.23</td>\n",
       "      <td>-122.00</td>\n",
       "      <td>1.91300</td>\n",
       "      <td>Low Price</td>\n",
       "      <td>Low Age</td>\n",
       "      <td>q4 - (4.74-15.0)</td>\n",
       "    </tr>\n",
       "    <tr>\n",
       "      <th>12286</th>\n",
       "      <td>1.6250</td>\n",
       "      <td>1.0</td>\n",
       "      <td>3.000000</td>\n",
       "      <td>1.000000</td>\n",
       "      <td>8.0</td>\n",
       "      <td>4.000000</td>\n",
       "      <td>33.86</td>\n",
       "      <td>-116.95</td>\n",
       "      <td>0.55000</td>\n",
       "      <td>Low Price</td>\n",
       "      <td>Low Age</td>\n",
       "      <td>q1 - (0.5-2.56)</td>\n",
       "    </tr>\n",
       "    <tr>\n",
       "      <th>12077</th>\n",
       "      <td>6.2308</td>\n",
       "      <td>2.0</td>\n",
       "      <td>8.801008</td>\n",
       "      <td>1.373804</td>\n",
       "      <td>5964.0</td>\n",
       "      <td>3.004534</td>\n",
       "      <td>33.87</td>\n",
       "      <td>-117.64</td>\n",
       "      <td>2.57900</td>\n",
       "      <td>Medium Price</td>\n",
       "      <td>Low Age</td>\n",
       "      <td>q4 - (4.74-15.0)</td>\n",
       "    </tr>\n",
       "    <tr>\n",
       "      <th>...</th>\n",
       "      <td>...</td>\n",
       "      <td>...</td>\n",
       "      <td>...</td>\n",
       "      <td>...</td>\n",
       "      <td>...</td>\n",
       "      <td>...</td>\n",
       "      <td>...</td>\n",
       "      <td>...</td>\n",
       "      <td>...</td>\n",
       "      <td>...</td>\n",
       "      <td>...</td>\n",
       "      <td>...</td>\n",
       "    </tr>\n",
       "    <tr>\n",
       "      <th>15808</th>\n",
       "      <td>5.0731</td>\n",
       "      <td>52.0</td>\n",
       "      <td>5.248954</td>\n",
       "      <td>1.037657</td>\n",
       "      <td>855.0</td>\n",
       "      <td>1.788703</td>\n",
       "      <td>37.76</td>\n",
       "      <td>-122.44</td>\n",
       "      <td>4.05400</td>\n",
       "      <td>High Price</td>\n",
       "      <td>High Age</td>\n",
       "      <td>q4 - (4.74-15.0)</td>\n",
       "    </tr>\n",
       "    <tr>\n",
       "      <th>4117</th>\n",
       "      <td>5.5291</td>\n",
       "      <td>52.0</td>\n",
       "      <td>5.937984</td>\n",
       "      <td>1.049096</td>\n",
       "      <td>1203.0</td>\n",
       "      <td>3.108527</td>\n",
       "      <td>34.14</td>\n",
       "      <td>-118.22</td>\n",
       "      <td>2.74600</td>\n",
       "      <td>Medium Price</td>\n",
       "      <td>High Age</td>\n",
       "      <td>q4 - (4.74-15.0)</td>\n",
       "    </tr>\n",
       "    <tr>\n",
       "      <th>16017</th>\n",
       "      <td>6.7228</td>\n",
       "      <td>52.0</td>\n",
       "      <td>7.433249</td>\n",
       "      <td>1.022670</td>\n",
       "      <td>1115.0</td>\n",
       "      <td>2.808564</td>\n",
       "      <td>37.72</td>\n",
       "      <td>-122.46</td>\n",
       "      <td>4.05200</td>\n",
       "      <td>High Price</td>\n",
       "      <td>High Age</td>\n",
       "      <td>q4 - (4.74-15.0)</td>\n",
       "    </tr>\n",
       "    <tr>\n",
       "      <th>5121</th>\n",
       "      <td>3.0625</td>\n",
       "      <td>52.0</td>\n",
       "      <td>6.108959</td>\n",
       "      <td>1.113801</td>\n",
       "      <td>1167.0</td>\n",
       "      <td>2.825666</td>\n",
       "      <td>33.96</td>\n",
       "      <td>-118.31</td>\n",
       "      <td>1.27400</td>\n",
       "      <td>Low Price</td>\n",
       "      <td>High Age</td>\n",
       "      <td>q2 - (2.56-3.53)</td>\n",
       "    </tr>\n",
       "    <tr>\n",
       "      <th>9188</th>\n",
       "      <td>4.1932</td>\n",
       "      <td>52.0</td>\n",
       "      <td>3.568889</td>\n",
       "      <td>1.186667</td>\n",
       "      <td>628.0</td>\n",
       "      <td>2.791111</td>\n",
       "      <td>34.24</td>\n",
       "      <td>-117.86</td>\n",
       "      <td>0.14999</td>\n",
       "      <td>Low Price</td>\n",
       "      <td>High Age</td>\n",
       "      <td>q3 - (3.53-4.74)</td>\n",
       "    </tr>\n",
       "  </tbody>\n",
       "</table>\n",
       "<p>20640 rows × 12 columns</p>\n",
       "</div>"
      ],
      "text/plain": [
       "       MedInc  HouseAge   AveRooms  AveBedrms  Population  AveOccup  Latitude  \\\n",
       "3130   4.8750       1.0   5.533333   1.000000        32.0  2.133333     35.08   \n",
       "19536  4.2500       1.0  20.125000   2.928571       402.0  3.589286     37.65   \n",
       "18972  5.2636       1.0   7.694030   1.279851       872.0  3.253731     38.23   \n",
       "12286  1.6250       1.0   3.000000   1.000000         8.0  4.000000     33.86   \n",
       "12077  6.2308       2.0   8.801008   1.373804      5964.0  3.004534     33.87   \n",
       "...       ...       ...        ...        ...         ...       ...       ...   \n",
       "15808  5.0731      52.0   5.248954   1.037657       855.0  1.788703     37.76   \n",
       "4117   5.5291      52.0   5.937984   1.049096      1203.0  3.108527     34.14   \n",
       "16017  6.7228      52.0   7.433249   1.022670      1115.0  2.808564     37.72   \n",
       "5121   3.0625      52.0   6.108959   1.113801      1167.0  2.825666     33.96   \n",
       "9188   4.1932      52.0   3.568889   1.186667       628.0  2.791111     34.24   \n",
       "\n",
       "       Longitude    Price Price_segments HouseAge_segments   quartile_MedInc  \n",
       "3130     -117.95  1.41700      Low Price           Low Age  q4 - (4.74-15.0)  \n",
       "19536    -120.93  1.89200      Low Price           Low Age  q3 - (3.53-4.74)  \n",
       "18972    -122.00  1.91300      Low Price           Low Age  q4 - (4.74-15.0)  \n",
       "12286    -116.95  0.55000      Low Price           Low Age   q1 - (0.5-2.56)  \n",
       "12077    -117.64  2.57900   Medium Price           Low Age  q4 - (4.74-15.0)  \n",
       "...          ...      ...            ...               ...               ...  \n",
       "15808    -122.44  4.05400     High Price          High Age  q4 - (4.74-15.0)  \n",
       "4117     -118.22  2.74600   Medium Price          High Age  q4 - (4.74-15.0)  \n",
       "16017    -122.46  4.05200     High Price          High Age  q4 - (4.74-15.0)  \n",
       "5121     -118.31  1.27400      Low Price          High Age  q2 - (2.56-3.53)  \n",
       "9188     -117.86  0.14999      Low Price          High Age  q3 - (3.53-4.74)  \n",
       "\n",
       "[20640 rows x 12 columns]"
      ]
     },
     "execution_count": 29,
     "metadata": {},
     "output_type": "execute_result"
    }
   ],
   "source": [
    "pd.read_pickle('data/data_segmentation.pkl')"
   ]
  },
  {
   "cell_type": "code",
   "execution_count": null,
   "id": "69eecbb9-da31-4fbf-91ec-89ebd205fff7",
   "metadata": {},
   "outputs": [],
   "source": []
  }
 ],
 "metadata": {
  "kernelspec": {
   "display_name": "Python 3 (ipykernel)",
   "language": "python",
   "name": "python3"
  },
  "language_info": {
   "codemirror_mode": {
    "name": "ipython",
    "version": 3
   },
   "file_extension": ".py",
   "mimetype": "text/x-python",
   "name": "python",
   "nbconvert_exporter": "python",
   "pygments_lexer": "ipython3",
   "version": "3.10.14"
  }
 },
 "nbformat": 4,
 "nbformat_minor": 5
}
