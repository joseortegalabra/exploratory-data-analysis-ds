{
 "cells": [
  {
   "cell_type": "markdown",
   "id": "81ef747b-3c86-498f-9e5f-90ee3413fb24",
   "metadata": {},
   "source": [
    "# Correlations segmentation"
   ]
  },
  {
   "cell_type": "code",
   "execution_count": 1,
   "id": "0315ffc9-2e63-4f50-afee-ad0dec41fb24",
   "metadata": {},
   "outputs": [
    {
     "name": "stdout",
     "output_type": "stream",
     "text": [
      "root path:  /Users/joseortega/Documents/GitHub/exploratory-data-analysis-ds\n"
     ]
    }
   ],
   "source": [
    "import os\n",
    "# fix root path to save outputs\n",
    "actual_path = os.path.abspath(os.getcwd())\n",
    "list_root_path = actual_path.split('/')[:-1]\n",
    "root_path = '/'.join(list_root_path)\n",
    "os.chdir(root_path)\n",
    "print('root path: ', root_path)"
   ]
  },
  {
   "cell_type": "code",
   "execution_count": null,
   "id": "3a87aeda-f35e-435b-9afd-69fa7412d5a2",
   "metadata": {},
   "outputs": [],
   "source": []
  },
  {
   "cell_type": "markdown",
   "id": "bff967ca-5008-4ecf-9520-d74e8384b701",
   "metadata": {},
   "source": [
    "### 0. Package and load data"
   ]
  },
  {
   "cell_type": "code",
   "execution_count": 2,
   "id": "c9132f8d-a05e-48eb-b572-1b5604723b7e",
   "metadata": {},
   "outputs": [],
   "source": [
    "from sklearn.datasets import fetch_california_housing\n",
    "import json\n",
    "import pandas as pd\n",
    "import numpy as np\n",
    "\n",
    "# plotly\n",
    "import plotly\n",
    "import plotly.express as px\n",
    "import plotly.graph_objects as go\n",
    "import plotly.io as pio\n",
    "from plotly.subplots import make_subplots"
   ]
  },
  {
   "cell_type": "markdown",
   "id": "a4ea1a13-94d5-4fde-af8f-e8d3a8747d28",
   "metadata": {},
   "source": [
    "#### load data example segmentation\n",
    "In this example there are the possible segmentation of the data to select:\n",
    "- segmentation by target. custom segmentation. Price_segments\n",
    "- segmentation by feature house age. custom segmentation. HouseAge_segments\n",
    "- segmentation by MedInc. quintile segmentation. quartile_MedInc"
   ]
  },
  {
   "cell_type": "code",
   "execution_count": 3,
   "id": "fa4995f4-98aa-4ab9-b22e-1fd738872370",
   "metadata": {},
   "outputs": [
    {
     "data": {
      "text/html": [
       "<div>\n",
       "<style scoped>\n",
       "    .dataframe tbody tr th:only-of-type {\n",
       "        vertical-align: middle;\n",
       "    }\n",
       "\n",
       "    .dataframe tbody tr th {\n",
       "        vertical-align: top;\n",
       "    }\n",
       "\n",
       "    .dataframe thead th {\n",
       "        text-align: right;\n",
       "    }\n",
       "</style>\n",
       "<table border=\"1\" class=\"dataframe\">\n",
       "  <thead>\n",
       "    <tr style=\"text-align: right;\">\n",
       "      <th></th>\n",
       "      <th>MedInc</th>\n",
       "      <th>HouseAge</th>\n",
       "      <th>AveRooms</th>\n",
       "      <th>AveBedrms</th>\n",
       "      <th>Population</th>\n",
       "      <th>AveOccup</th>\n",
       "      <th>Latitude</th>\n",
       "      <th>Longitude</th>\n",
       "      <th>Price</th>\n",
       "      <th>Price_segments</th>\n",
       "      <th>HouseAge_segments</th>\n",
       "      <th>quartile_MedInc</th>\n",
       "    </tr>\n",
       "  </thead>\n",
       "  <tbody>\n",
       "    <tr>\n",
       "      <th>3130</th>\n",
       "      <td>4.8750</td>\n",
       "      <td>1.0</td>\n",
       "      <td>5.533333</td>\n",
       "      <td>1.000000</td>\n",
       "      <td>32.0</td>\n",
       "      <td>2.133333</td>\n",
       "      <td>35.08</td>\n",
       "      <td>-117.95</td>\n",
       "      <td>1.417</td>\n",
       "      <td>Low Price</td>\n",
       "      <td>Low Age</td>\n",
       "      <td>q4 - (4.74-15.0)</td>\n",
       "    </tr>\n",
       "    <tr>\n",
       "      <th>19536</th>\n",
       "      <td>4.2500</td>\n",
       "      <td>1.0</td>\n",
       "      <td>20.125000</td>\n",
       "      <td>2.928571</td>\n",
       "      <td>402.0</td>\n",
       "      <td>3.589286</td>\n",
       "      <td>37.65</td>\n",
       "      <td>-120.93</td>\n",
       "      <td>1.892</td>\n",
       "      <td>Low Price</td>\n",
       "      <td>Low Age</td>\n",
       "      <td>q3 - (3.53-4.74)</td>\n",
       "    </tr>\n",
       "    <tr>\n",
       "      <th>18972</th>\n",
       "      <td>5.2636</td>\n",
       "      <td>1.0</td>\n",
       "      <td>7.694030</td>\n",
       "      <td>1.279851</td>\n",
       "      <td>872.0</td>\n",
       "      <td>3.253731</td>\n",
       "      <td>38.23</td>\n",
       "      <td>-122.00</td>\n",
       "      <td>1.913</td>\n",
       "      <td>Low Price</td>\n",
       "      <td>Low Age</td>\n",
       "      <td>q4 - (4.74-15.0)</td>\n",
       "    </tr>\n",
       "    <tr>\n",
       "      <th>12286</th>\n",
       "      <td>1.6250</td>\n",
       "      <td>1.0</td>\n",
       "      <td>3.000000</td>\n",
       "      <td>1.000000</td>\n",
       "      <td>8.0</td>\n",
       "      <td>4.000000</td>\n",
       "      <td>33.86</td>\n",
       "      <td>-116.95</td>\n",
       "      <td>0.550</td>\n",
       "      <td>Low Price</td>\n",
       "      <td>Low Age</td>\n",
       "      <td>q1 - (0.5-2.56)</td>\n",
       "    </tr>\n",
       "    <tr>\n",
       "      <th>12077</th>\n",
       "      <td>6.2308</td>\n",
       "      <td>2.0</td>\n",
       "      <td>8.801008</td>\n",
       "      <td>1.373804</td>\n",
       "      <td>5964.0</td>\n",
       "      <td>3.004534</td>\n",
       "      <td>33.87</td>\n",
       "      <td>-117.64</td>\n",
       "      <td>2.579</td>\n",
       "      <td>Medium Price</td>\n",
       "      <td>Low Age</td>\n",
       "      <td>q4 - (4.74-15.0)</td>\n",
       "    </tr>\n",
       "  </tbody>\n",
       "</table>\n",
       "</div>"
      ],
      "text/plain": [
       "       MedInc  HouseAge   AveRooms  AveBedrms  Population  AveOccup  Latitude  \\\n",
       "3130   4.8750       1.0   5.533333   1.000000        32.0  2.133333     35.08   \n",
       "19536  4.2500       1.0  20.125000   2.928571       402.0  3.589286     37.65   \n",
       "18972  5.2636       1.0   7.694030   1.279851       872.0  3.253731     38.23   \n",
       "12286  1.6250       1.0   3.000000   1.000000         8.0  4.000000     33.86   \n",
       "12077  6.2308       2.0   8.801008   1.373804      5964.0  3.004534     33.87   \n",
       "\n",
       "       Longitude  Price Price_segments HouseAge_segments   quartile_MedInc  \n",
       "3130     -117.95  1.417      Low Price           Low Age  q4 - (4.74-15.0)  \n",
       "19536    -120.93  1.892      Low Price           Low Age  q3 - (3.53-4.74)  \n",
       "18972    -122.00  1.913      Low Price           Low Age  q4 - (4.74-15.0)  \n",
       "12286    -116.95  0.550      Low Price           Low Age   q1 - (0.5-2.56)  \n",
       "12077    -117.64  2.579   Medium Price           Low Age  q4 - (4.74-15.0)  "
      ]
     },
     "execution_count": 3,
     "metadata": {},
     "output_type": "execute_result"
    }
   ],
   "source": [
    "data = pd.read_pickle('data/data_segmentation.pkl')\n",
    "data.head()"
   ]
  },
  {
   "cell_type": "code",
   "execution_count": null,
   "id": "a4d6e8aa-a258-41e8-8b03-439a3921b2c5",
   "metadata": {},
   "outputs": [],
   "source": []
  },
  {
   "cell_type": "code",
   "execution_count": null,
   "id": "178ebd0d-2cac-40a6-b617-02bc98b8ec43",
   "metadata": {},
   "outputs": [],
   "source": []
  }
 ],
 "metadata": {
  "kernelspec": {
   "display_name": "Python 3 (ipykernel)",
   "language": "python",
   "name": "python3"
  },
  "language_info": {
   "codemirror_mode": {
    "name": "ipython",
    "version": 3
   },
   "file_extension": ".py",
   "mimetype": "text/x-python",
   "name": "python",
   "nbconvert_exporter": "python",
   "pygments_lexer": "ipython3",
   "version": "3.10.14"
  }
 },
 "nbformat": 4,
 "nbformat_minor": 5
}
